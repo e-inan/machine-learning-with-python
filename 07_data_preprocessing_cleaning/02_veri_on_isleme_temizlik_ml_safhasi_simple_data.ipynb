{
 "cells": [
  {
   "cell_type": "code",
   "execution_count": 1,
   "metadata": {},
   "outputs": [],
   "source": [
    "import pandas as pd"
   ]
  },
  {
   "cell_type": "code",
   "execution_count": 2,
   "metadata": {},
   "outputs": [],
   "source": [
    "df = pd.read_csv(\"D:/Datasets/preprocessing/simple_data_ilk_safha.csv\")"
   ]
  },
  {
   "cell_type": "code",
   "execution_count": 3,
   "metadata": {},
   "outputs": [
    {
     "data": {
      "text/html": [
       "<div>\n",
       "<style scoped>\n",
       "    .dataframe tbody tr th:only-of-type {\n",
       "        vertical-align: middle;\n",
       "    }\n",
       "\n",
       "    .dataframe tbody tr th {\n",
       "        vertical-align: top;\n",
       "    }\n",
       "\n",
       "    .dataframe thead th {\n",
       "        text-align: right;\n",
       "    }\n",
       "</style>\n",
       "<table border=\"1\" class=\"dataframe\">\n",
       "  <thead>\n",
       "    <tr style=\"text-align: right;\">\n",
       "      <th></th>\n",
       "      <th>sirano</th>\n",
       "      <th>isim</th>\n",
       "      <th>yas</th>\n",
       "      <th>meslek</th>\n",
       "      <th>sehir</th>\n",
       "      <th>aylik_gelir</th>\n",
       "      <th>yas2</th>\n",
       "      <th>aylik_gelir2</th>\n",
       "      <th>aylik_gelir3</th>\n",
       "    </tr>\n",
       "  </thead>\n",
       "  <tbody>\n",
       "    <tr>\n",
       "      <td>0</td>\n",
       "      <td>1</td>\n",
       "      <td>Cemal</td>\n",
       "      <td>35.0</td>\n",
       "      <td>Isci</td>\n",
       "      <td>Ankara</td>\n",
       "      <td>3500.0</td>\n",
       "      <td>35.0</td>\n",
       "      <td>3500.0</td>\n",
       "      <td>3500.0</td>\n",
       "    </tr>\n",
       "    <tr>\n",
       "      <td>1</td>\n",
       "      <td>2</td>\n",
       "      <td>Ceyda</td>\n",
       "      <td>42.0</td>\n",
       "      <td>Memur</td>\n",
       "      <td>Kayseri</td>\n",
       "      <td>4200.0</td>\n",
       "      <td>42.0</td>\n",
       "      <td>4200.0</td>\n",
       "      <td>4200.0</td>\n",
       "    </tr>\n",
       "    <tr>\n",
       "      <td>2</td>\n",
       "      <td>3</td>\n",
       "      <td>Timur</td>\n",
       "      <td>30.0</td>\n",
       "      <td>Müzisyen</td>\n",
       "      <td>Istanbul</td>\n",
       "      <td>9000.0</td>\n",
       "      <td>30.0</td>\n",
       "      <td>9000.0</td>\n",
       "      <td>9000.0</td>\n",
       "    </tr>\n",
       "    <tr>\n",
       "      <td>3</td>\n",
       "      <td>4</td>\n",
       "      <td>Burcu</td>\n",
       "      <td>29.0</td>\n",
       "      <td>Pazarlamaci</td>\n",
       "      <td>Ankara</td>\n",
       "      <td>4200.0</td>\n",
       "      <td>29.0</td>\n",
       "      <td>4200.0</td>\n",
       "      <td>4200.0</td>\n",
       "    </tr>\n",
       "    <tr>\n",
       "      <td>4</td>\n",
       "      <td>6</td>\n",
       "      <td>Ali</td>\n",
       "      <td>33.0</td>\n",
       "      <td>Memur</td>\n",
       "      <td>Ankara</td>\n",
       "      <td>4250.0</td>\n",
       "      <td>33.0</td>\n",
       "      <td>4250.0</td>\n",
       "      <td>4250.0</td>\n",
       "    </tr>\n",
       "  </tbody>\n",
       "</table>\n",
       "</div>"
      ],
      "text/plain": [
       "   sirano   isim   yas       meslek     sehir  aylik_gelir  yas2  \\\n",
       "0       1  Cemal  35.0         Isci    Ankara       3500.0  35.0   \n",
       "1       2  Ceyda  42.0        Memur   Kayseri       4200.0  42.0   \n",
       "2       3  Timur  30.0     Müzisyen  Istanbul       9000.0  30.0   \n",
       "3       4  Burcu  29.0  Pazarlamaci    Ankara       4200.0  29.0   \n",
       "4       6    Ali  33.0        Memur    Ankara       4250.0  33.0   \n",
       "\n",
       "   aylik_gelir2  aylik_gelir3  \n",
       "0        3500.0        3500.0  \n",
       "1        4200.0        4200.0  \n",
       "2        9000.0        9000.0  \n",
       "3        4200.0        4200.0  \n",
       "4        4250.0        4250.0  "
      ]
     },
     "execution_count": 3,
     "metadata": {},
     "output_type": "execute_result"
    }
   ],
   "source": [
    "df.head()"
   ]
  },
  {
   "cell_type": "markdown",
   "metadata": {},
   "source": [
    "## numpy reshape'i yeniden hatırlayalım"
   ]
  },
  {
   "cell_type": "code",
   "execution_count": 4,
   "metadata": {},
   "outputs": [],
   "source": [
    "import numpy as np"
   ]
  },
  {
   "cell_type": "code",
   "execution_count": 5,
   "metadata": {},
   "outputs": [
    {
     "data": {
      "text/plain": [
       "array([1, 2, 3, 4])"
      ]
     },
     "execution_count": 5,
     "metadata": {},
     "output_type": "execute_result"
    }
   ],
   "source": [
    "arr = np.array([1,2,3,4])\n",
    "arr"
   ]
  },
  {
   "cell_type": "code",
   "execution_count": 6,
   "metadata": {},
   "outputs": [
    {
     "data": {
      "text/plain": [
       "(4,)"
      ]
     },
     "execution_count": 6,
     "metadata": {},
     "output_type": "execute_result"
    }
   ],
   "source": [
    "arr.shape"
   ]
  },
  {
   "cell_type": "code",
   "execution_count": 7,
   "metadata": {},
   "outputs": [
    {
     "data": {
      "text/plain": [
       "array([[1],\n",
       "       [2],\n",
       "       [3],\n",
       "       [4]])"
      ]
     },
     "execution_count": 7,
     "metadata": {},
     "output_type": "execute_result"
    }
   ],
   "source": [
    "arr = arr.reshape(-1,1)\n",
    "arr"
   ]
  },
  {
   "cell_type": "code",
   "execution_count": 8,
   "metadata": {},
   "outputs": [
    {
     "data": {
      "text/plain": [
       "(4, 1)"
      ]
     },
     "execution_count": 8,
     "metadata": {},
     "output_type": "execute_result"
    }
   ],
   "source": [
    "arr.shape"
   ]
  },
  {
   "cell_type": "code",
   "execution_count": 9,
   "metadata": {},
   "outputs": [
    {
     "data": {
      "text/plain": [
       "Index(['sirano', 'isim', 'yas', 'meslek', 'sehir', 'aylik_gelir', 'yas2',\n",
       "       'aylik_gelir2', 'aylik_gelir3'],\n",
       "      dtype='object')"
      ]
     },
     "execution_count": 9,
     "metadata": {},
     "output_type": "execute_result"
    }
   ],
   "source": [
    "df.columns"
   ]
  },
  {
   "cell_type": "markdown",
   "metadata": {},
   "source": [
    "## Sütunları tekrar sıralayalım"
   ]
  },
  {
   "cell_type": "code",
   "execution_count": 9,
   "metadata": {},
   "outputs": [
    {
     "data": {
      "text/plain": [
       "Index(['sirano', 'isim', 'yas', 'meslek', 'sehir', 'aylik_gelir', 'yas2',\n",
       "       'aylik_gelir2', 'aylik_gelir3'],\n",
       "      dtype='object')"
      ]
     },
     "execution_count": 9,
     "metadata": {},
     "output_type": "execute_result"
    }
   ],
   "source": [
    "df.columns"
   ]
  },
  {
   "cell_type": "code",
   "execution_count": 10,
   "metadata": {},
   "outputs": [],
   "source": [
    "df = df[['sirano', 'isim', 'yas','aylik_gelir','aylik_gelir2', 'meslek', 'sehir',  'yas2',\n",
    "        'aylik_gelir3']]"
   ]
  },
  {
   "cell_type": "code",
   "execution_count": 11,
   "metadata": {
    "scrolled": true
   },
   "outputs": [
    {
     "data": {
      "text/html": [
       "<div>\n",
       "<style scoped>\n",
       "    .dataframe tbody tr th:only-of-type {\n",
       "        vertical-align: middle;\n",
       "    }\n",
       "\n",
       "    .dataframe tbody tr th {\n",
       "        vertical-align: top;\n",
       "    }\n",
       "\n",
       "    .dataframe thead th {\n",
       "        text-align: right;\n",
       "    }\n",
       "</style>\n",
       "<table border=\"1\" class=\"dataframe\">\n",
       "  <thead>\n",
       "    <tr style=\"text-align: right;\">\n",
       "      <th></th>\n",
       "      <th>sirano</th>\n",
       "      <th>isim</th>\n",
       "      <th>yas</th>\n",
       "      <th>aylik_gelir</th>\n",
       "      <th>aylik_gelir2</th>\n",
       "      <th>meslek</th>\n",
       "      <th>sehir</th>\n",
       "      <th>yas2</th>\n",
       "      <th>aylik_gelir3</th>\n",
       "    </tr>\n",
       "  </thead>\n",
       "  <tbody>\n",
       "    <tr>\n",
       "      <td>0</td>\n",
       "      <td>1</td>\n",
       "      <td>Cemal</td>\n",
       "      <td>35.0</td>\n",
       "      <td>3500.0</td>\n",
       "      <td>3500.0</td>\n",
       "      <td>Isci</td>\n",
       "      <td>Ankara</td>\n",
       "      <td>35.0</td>\n",
       "      <td>3500.0</td>\n",
       "    </tr>\n",
       "    <tr>\n",
       "      <td>1</td>\n",
       "      <td>2</td>\n",
       "      <td>Ceyda</td>\n",
       "      <td>42.0</td>\n",
       "      <td>4200.0</td>\n",
       "      <td>4200.0</td>\n",
       "      <td>Memur</td>\n",
       "      <td>Kayseri</td>\n",
       "      <td>42.0</td>\n",
       "      <td>4200.0</td>\n",
       "    </tr>\n",
       "    <tr>\n",
       "      <td>2</td>\n",
       "      <td>3</td>\n",
       "      <td>Timur</td>\n",
       "      <td>30.0</td>\n",
       "      <td>9000.0</td>\n",
       "      <td>9000.0</td>\n",
       "      <td>Müzisyen</td>\n",
       "      <td>Istanbul</td>\n",
       "      <td>30.0</td>\n",
       "      <td>9000.0</td>\n",
       "    </tr>\n",
       "    <tr>\n",
       "      <td>3</td>\n",
       "      <td>4</td>\n",
       "      <td>Burcu</td>\n",
       "      <td>29.0</td>\n",
       "      <td>4200.0</td>\n",
       "      <td>4200.0</td>\n",
       "      <td>Pazarlamaci</td>\n",
       "      <td>Ankara</td>\n",
       "      <td>29.0</td>\n",
       "      <td>4200.0</td>\n",
       "    </tr>\n",
       "    <tr>\n",
       "      <td>4</td>\n",
       "      <td>6</td>\n",
       "      <td>Ali</td>\n",
       "      <td>33.0</td>\n",
       "      <td>4250.0</td>\n",
       "      <td>4250.0</td>\n",
       "      <td>Memur</td>\n",
       "      <td>Ankara</td>\n",
       "      <td>33.0</td>\n",
       "      <td>4250.0</td>\n",
       "    </tr>\n",
       "  </tbody>\n",
       "</table>\n",
       "</div>"
      ],
      "text/plain": [
       "   sirano   isim   yas  aylik_gelir  aylik_gelir2       meslek     sehir  \\\n",
       "0       1  Cemal  35.0       3500.0        3500.0         Isci    Ankara   \n",
       "1       2  Ceyda  42.0       4200.0        4200.0        Memur   Kayseri   \n",
       "2       3  Timur  30.0       9000.0        9000.0     Müzisyen  Istanbul   \n",
       "3       4  Burcu  29.0       4200.0        4200.0  Pazarlamaci    Ankara   \n",
       "4       6    Ali  33.0       4250.0        4250.0        Memur    Ankara   \n",
       "\n",
       "   yas2  aylik_gelir3  \n",
       "0  35.0        3500.0  \n",
       "1  42.0        4200.0  \n",
       "2  30.0        9000.0  \n",
       "3  29.0        4200.0  \n",
       "4  33.0        4250.0  "
      ]
     },
     "execution_count": 11,
     "metadata": {},
     "output_type": "execute_result"
    }
   ],
   "source": [
    "df.head()"
   ]
  },
  {
   "cell_type": "markdown",
   "metadata": {},
   "source": [
    "# Nitelikler Matrisi oluşturma (Feature matrix)"
   ]
  },
  {
   "cell_type": "code",
   "execution_count": 12,
   "metadata": {},
   "outputs": [],
   "source": [
    "# tüm satırları ve 5. sütundan (meslek) sona kadar seçelim\n",
    "X = df.iloc[:,5:].values"
   ]
  },
  {
   "cell_type": "code",
   "execution_count": 13,
   "metadata": {},
   "outputs": [
    {
     "data": {
      "text/plain": [
       "array([['Isci', 'Ankara', 35.0, 3500.0],\n",
       "       ['Memur', 'Kayseri', 42.0, 4200.0],\n",
       "       ['Müzisyen', 'Istanbul', 30.0, 9000.0]], dtype=object)"
      ]
     },
     "execution_count": 13,
     "metadata": {},
     "output_type": "execute_result"
    }
   ],
   "source": [
    "# İlk üç satırı görelim\n",
    "X[:3]"
   ]
  },
  {
   "cell_type": "code",
   "execution_count": 14,
   "metadata": {},
   "outputs": [
    {
     "data": {
      "text/plain": [
       "(14, 4)"
      ]
     },
     "execution_count": 14,
     "metadata": {},
     "output_type": "execute_result"
    }
   ],
   "source": [
    "X.shape"
   ]
  },
  {
   "cell_type": "code",
   "execution_count": 15,
   "metadata": {},
   "outputs": [
    {
     "data": {
      "text/plain": [
       "array(['Isci', 'Memur', 'Müzisyen', 'Pazarlamaci', 'Memur', 'Pazarlamaci',\n",
       "       'Müzisyen', 'Doktor', 'Tuhafiyeci', 'Tornacı', 'Doktor', 'Berber',\n",
       "       'Berber', 'Asistan'], dtype=object)"
      ]
     },
     "execution_count": 15,
     "metadata": {},
     "output_type": "execute_result"
    }
   ],
   "source": [
    "# Mesleklerin bulunduğu sütunu nasıl seçeriz?\n",
    "X[:,0]"
   ]
  },
  {
   "cell_type": "markdown",
   "metadata": {},
   "source": [
    "#  Kategorik Niteliklerin İşlenmesi"
   ]
  },
  {
   "cell_type": "markdown",
   "metadata": {},
   "source": [
    "## Hedef Değişkenin LabelEncoder ile Kodlanması"
   ]
  },
  {
   "cell_type": "code",
   "execution_count": 17,
   "metadata": {},
   "outputs": [],
   "source": [
    "# Bu veri setinde hedef değişken olmadığından yapılamıyor."
   ]
  },
  {
   "cell_type": "markdown",
   "metadata": {},
   "source": [
    "<img src=\"label_one_hot.png\">"
   ]
  },
  {
   "cell_type": "markdown",
   "metadata": {},
   "source": [
    "## LabelEncoder"
   ]
  },
  {
   "cell_type": "code",
   "execution_count": 16,
   "metadata": {},
   "outputs": [],
   "source": [
    "from sklearn.preprocessing import LabelEncoder"
   ]
  },
  {
   "cell_type": "markdown",
   "metadata": {},
   "source": [
    "## meslek kategorik değişkeni"
   ]
  },
  {
   "cell_type": "code",
   "execution_count": 17,
   "metadata": {},
   "outputs": [],
   "source": [
    "encoder_meslek = LabelEncoder()"
   ]
  },
  {
   "cell_type": "code",
   "execution_count": 18,
   "metadata": {},
   "outputs": [],
   "source": [
    "X[:,0] = encoder_meslek.fit_transform(X[:,0])"
   ]
  },
  {
   "cell_type": "code",
   "execution_count": 19,
   "metadata": {},
   "outputs": [
    {
     "data": {
      "text/plain": [
       "array([[3, 'Ankara', 35.0, 3500.0],\n",
       "       [4, 'Kayseri', 42.0, 4200.0],\n",
       "       [5, 'Istanbul', 30.0, 9000.0],\n",
       "       [6, 'Ankara', 29.0, 4200.0],\n",
       "       [4, 'Ankara', 33.0, 4250.0],\n",
       "       [6, 'Istanbul', 29.0, 7300.0],\n",
       "       [5, 'Istanbul', 31.0, 12000.0],\n",
       "       [2, 'Ankara', 33.0, 18000.0],\n",
       "       [8, 'Ankara', 47.0, 4800.0],\n",
       "       [7, 'Ankara', 43.0, 4200.0]], dtype=object)"
      ]
     },
     "execution_count": 19,
     "metadata": {},
     "output_type": "execute_result"
    }
   ],
   "source": [
    "X[:10]"
   ]
  },
  {
   "cell_type": "markdown",
   "metadata": {},
   "source": [
    "## sehir kategorik değişkeni"
   ]
  },
  {
   "cell_type": "code",
   "execution_count": 20,
   "metadata": {},
   "outputs": [],
   "source": [
    "encoder_sehir = LabelEncoder()"
   ]
  },
  {
   "cell_type": "code",
   "execution_count": 21,
   "metadata": {},
   "outputs": [],
   "source": [
    "X[:,1] = encoder_sehir.fit_transform(X[:,1])"
   ]
  },
  {
   "cell_type": "code",
   "execution_count": 22,
   "metadata": {},
   "outputs": [
    {
     "data": {
      "text/plain": [
       "array([[3, 0, 35.0, 3500.0],\n",
       "       [4, 2, 42.0, 4200.0],\n",
       "       [5, 1, 30.0, 9000.0],\n",
       "       [6, 0, 29.0, 4200.0],\n",
       "       [4, 0, 33.0, 4250.0],\n",
       "       [6, 1, 29.0, 7300.0],\n",
       "       [5, 1, 31.0, 12000.0],\n",
       "       [2, 0, 33.0, 18000.0],\n",
       "       [8, 0, 47.0, 4800.0],\n",
       "       [7, 0, 43.0, 4200.0]], dtype=object)"
      ]
     },
     "execution_count": 22,
     "metadata": {},
     "output_type": "execute_result"
    }
   ],
   "source": [
    "X[:10]"
   ]
  },
  {
   "cell_type": "markdown",
   "metadata": {},
   "source": [
    "## OneHotEncoder"
   ]
  },
  {
   "cell_type": "code",
   "execution_count": 23,
   "metadata": {},
   "outputs": [
    {
     "data": {
      "text/plain": [
       "(14, 4)"
      ]
     },
     "execution_count": 23,
     "metadata": {},
     "output_type": "execute_result"
    }
   ],
   "source": [
    "X.shape"
   ]
  },
  {
   "cell_type": "code",
   "execution_count": 24,
   "metadata": {},
   "outputs": [
    {
     "data": {
      "text/plain": [
       "array([[3, 0, 35.0, 3500.0],\n",
       "       [4, 2, 42.0, 4200.0],\n",
       "       [5, 1, 30.0, 9000.0],\n",
       "       [6, 0, 29.0, 4200.0],\n",
       "       [4, 0, 33.0, 4250.0],\n",
       "       [6, 1, 29.0, 7300.0],\n",
       "       [5, 1, 31.0, 12000.0],\n",
       "       [2, 0, 33.0, 18000.0],\n",
       "       [8, 0, 47.0, 4800.0],\n",
       "       [7, 0, 43.0, 4200.0]], dtype=object)"
      ]
     },
     "execution_count": 24,
     "metadata": {},
     "output_type": "execute_result"
    }
   ],
   "source": [
    "X[:10,:]"
   ]
  },
  {
   "cell_type": "code",
   "execution_count": 27,
   "metadata": {},
   "outputs": [],
   "source": [
    "# 0: meslek\n",
    "# 1: sehir\n",
    "# 2: yas\n",
    "# 3: aylik_gelir"
   ]
  },
  {
   "cell_type": "code",
   "execution_count": 25,
   "metadata": {},
   "outputs": [],
   "source": [
    "from sklearn.preprocessing import OneHotEncoder\n",
    "onehotencoder = OneHotEncoder(handle_unknown='ignore', categories='auto')"
   ]
  },
  {
   "cell_type": "code",
   "execution_count": 26,
   "metadata": {},
   "outputs": [],
   "source": [
    "# Birden sütunu ilgilendiren dönüşümleri kolay yapabilmek için kullanışlı bir sınıf (Estimator kökenli)\n",
    "# Biz burada sadece OneHotEncoder için kullanacağız.\n",
    "from sklearn.compose import ColumnTransformer"
   ]
  },
  {
   "cell_type": "code",
   "execution_count": 27,
   "metadata": {},
   "outputs": [],
   "source": [
    "# one_hot_encode_with_ct bizim kendi verdiğiiz isimdir. onehotencoder'ı yukarıda yarattık. [0,1] ise dönüşecek\n",
    "# niteliklerin indeks değerleridir.\n",
    "ct = ColumnTransformer(\n",
    "    [('one_hot_encode_with_ct', onehotencoder, [0,1]),], \n",
    "    remainder='passthrough'\n",
    ")"
   ]
  },
  {
   "cell_type": "code",
   "execution_count": 28,
   "metadata": {},
   "outputs": [],
   "source": [
    "# ColumnTransformer nesnesi ile onehotencoder nesnesini eğitip gerekli dönüşümleri gerçekleştirip X'e tekrar atayalım.\n",
    "# Burada X'in boyutu(shape) değişecektir.\n",
    "X = ct.fit_transform(X)"
   ]
  },
  {
   "cell_type": "code",
   "execution_count": 29,
   "metadata": {},
   "outputs": [
    {
     "data": {
      "text/plain": [
       "(14, 15)"
      ]
     },
     "execution_count": 29,
     "metadata": {},
     "output_type": "execute_result"
    }
   ],
   "source": [
    "X.shape"
   ]
  },
  {
   "cell_type": "code",
   "execution_count": 30,
   "metadata": {},
   "outputs": [
    {
     "data": {
      "text/plain": [
       "scipy.sparse.csr.csr_matrix"
      ]
     },
     "execution_count": 30,
     "metadata": {},
     "output_type": "execute_result"
    }
   ],
   "source": [
    "type(X)"
   ]
  },
  {
   "cell_type": "code",
   "execution_count": 31,
   "metadata": {},
   "outputs": [
    {
     "data": {
      "text/plain": [
       "array([[0.0e+00, 0.0e+00, 0.0e+00, 1.0e+00, 0.0e+00, 0.0e+00, 0.0e+00,\n",
       "        0.0e+00, 0.0e+00, 1.0e+00, 0.0e+00, 0.0e+00, 0.0e+00, 3.5e+01,\n",
       "        3.5e+03],\n",
       "       [0.0e+00, 0.0e+00, 0.0e+00, 0.0e+00, 1.0e+00, 0.0e+00, 0.0e+00,\n",
       "        0.0e+00, 0.0e+00, 0.0e+00, 0.0e+00, 1.0e+00, 0.0e+00, 4.2e+01,\n",
       "        4.2e+03],\n",
       "       [0.0e+00, 0.0e+00, 0.0e+00, 0.0e+00, 0.0e+00, 1.0e+00, 0.0e+00,\n",
       "        0.0e+00, 0.0e+00, 0.0e+00, 1.0e+00, 0.0e+00, 0.0e+00, 3.0e+01,\n",
       "        9.0e+03]])"
      ]
     },
     "execution_count": 31,
     "metadata": {},
     "output_type": "execute_result"
    }
   ],
   "source": [
    "# Burada array'e çevirmemizin sebebi bazı durumlarda  OneHotEncoder sonunda scipy.sparse.csr.csr_matrix üretilir.\n",
    "X.toarray()[:3]"
   ]
  },
  {
   "cell_type": "code",
   "execution_count": 32,
   "metadata": {},
   "outputs": [
    {
     "data": {
      "text/plain": [
       "9"
      ]
     },
     "execution_count": 32,
     "metadata": {},
     "output_type": "execute_result"
    }
   ],
   "source": [
    "# Boyut hesabı:\n",
    "len(df.meslek.unique())"
   ]
  },
  {
   "cell_type": "code",
   "execution_count": 33,
   "metadata": {},
   "outputs": [
    {
     "data": {
      "text/plain": [
       "4"
      ]
     },
     "execution_count": 33,
     "metadata": {},
     "output_type": "execute_result"
    }
   ],
   "source": [
    "len(df.sehir.unique())"
   ]
  },
  {
   "cell_type": "code",
   "execution_count": 34,
   "metadata": {},
   "outputs": [],
   "source": [
    "# mevcut boyut(4) + meslek(9) + sehir(4) = 17"
   ]
  },
  {
   "cell_type": "code",
   "execution_count": 35,
   "metadata": {},
   "outputs": [],
   "source": [
    "# 3 Peki niçin 15 sütun var?"
   ]
  },
  {
   "cell_type": "code",
   "execution_count": 36,
   "metadata": {},
   "outputs": [],
   "source": [
    "# meslek ve sehir'in labelEncoder ile dönüşmüş orijinal nitelikleri \n",
    "# artık gereksiz olduğu için düşürüldü bu yüzden 17 değil 15 sütun var."
   ]
  },
  {
   "cell_type": "markdown",
   "metadata": {},
   "source": [
    "# Normalizasyon, Standardizasyon (StandartdScaler)"
   ]
  },
  {
   "cell_type": "code",
   "execution_count": 37,
   "metadata": {},
   "outputs": [],
   "source": [
    "from sklearn.preprocessing import StandardScaler, MinMaxScaler"
   ]
  },
  {
   "cell_type": "code",
   "execution_count": 38,
   "metadata": {},
   "outputs": [],
   "source": [
    "std_scaler = StandardScaler()"
   ]
  },
  {
   "cell_type": "code",
   "execution_count": 40,
   "metadata": {},
   "outputs": [],
   "source": [
    "X_std = std_scaler.fit_transform(X.toarray())"
   ]
  },
  {
   "cell_type": "code",
   "execution_count": 41,
   "metadata": {},
   "outputs": [
    {
     "data": {
      "text/plain": [
       "array([[-0.2773501 , -0.40824829, -0.40824829,  3.60555128, -0.40824829,\n",
       "        -0.40824829, -0.40824829, -0.2773501 , -0.2773501 ,  0.8660254 ,\n",
       "        -0.52223297, -0.2773501 , -0.40824829, -0.13626313, -0.97057644],\n",
       "       [-0.2773501 , -0.40824829, -0.40824829, -0.2773501 ,  2.44948974,\n",
       "        -0.40824829, -0.40824829, -0.2773501 , -0.2773501 , -1.15470054,\n",
       "        -0.52223297,  3.60555128, -0.40824829,  0.81757875, -0.80784506],\n",
       "       [-0.2773501 , -0.40824829, -0.40824829, -0.2773501 , -0.40824829,\n",
       "         2.44948974, -0.40824829, -0.2773501 , -0.2773501 , -1.15470054,\n",
       "         1.91485422, -0.2773501 , -0.40824829, -0.81757875,  0.30802725],\n",
       "       [-0.2773501 , -0.40824829, -0.40824829, -0.2773501 , -0.40824829,\n",
       "        -0.40824829,  2.44948974, -0.2773501 , -0.2773501 ,  0.8660254 ,\n",
       "        -0.52223297, -0.2773501 , -0.40824829, -0.95384188, -0.80784506]])"
      ]
     },
     "execution_count": 41,
     "metadata": {},
     "output_type": "execute_result"
    }
   ],
   "source": [
    "X_std[:4,:]"
   ]
  },
  {
   "cell_type": "code",
   "execution_count": 42,
   "metadata": {},
   "outputs": [],
   "source": [
    "mmax_scaler = MinMaxScaler()"
   ]
  },
  {
   "cell_type": "code",
   "execution_count": 43,
   "metadata": {},
   "outputs": [],
   "source": [
    "X_mmax = mmax_scaler.fit_transform(X.toarray())"
   ]
  },
  {
   "cell_type": "code",
   "execution_count": 44,
   "metadata": {},
   "outputs": [
    {
     "data": {
      "text/plain": [
       "array([[0.        , 0.        , 0.        , 1.        , 0.        ,\n",
       "        0.        , 0.        , 0.        , 0.        , 1.        ,\n",
       "        0.        , 0.        , 0.        , 0.5       , 0.        ],\n",
       "       [0.        , 0.        , 0.        , 0.        , 1.        ,\n",
       "        0.        , 0.        , 0.        , 0.        , 0.        ,\n",
       "        0.        , 1.        , 0.        , 0.79166667, 0.04827586],\n",
       "       [0.        , 0.        , 0.        , 0.        , 0.        ,\n",
       "        1.        , 0.        , 0.        , 0.        , 0.        ,\n",
       "        1.        , 0.        , 0.        , 0.29166667, 0.37931034],\n",
       "       [0.        , 0.        , 0.        , 0.        , 0.        ,\n",
       "        0.        , 1.        , 0.        , 0.        , 1.        ,\n",
       "        0.        , 0.        , 0.        , 0.25      , 0.04827586],\n",
       "       [0.        , 0.        , 0.        , 0.        , 1.        ,\n",
       "        0.        , 0.        , 0.        , 0.        , 1.        ,\n",
       "        0.        , 0.        , 0.        , 0.41666667, 0.05172414],\n",
       "       [0.        , 0.        , 0.        , 0.        , 0.        ,\n",
       "        0.        , 1.        , 0.        , 0.        , 0.        ,\n",
       "        1.        , 0.        , 0.        , 0.25      , 0.26206897],\n",
       "       [0.        , 0.        , 0.        , 0.        , 0.        ,\n",
       "        1.        , 0.        , 0.        , 0.        , 0.        ,\n",
       "        1.        , 0.        , 0.        , 0.33333333, 0.5862069 ],\n",
       "       [0.        , 0.        , 1.        , 0.        , 0.        ,\n",
       "        0.        , 0.        , 0.        , 0.        , 1.        ,\n",
       "        0.        , 0.        , 0.        , 0.41666667, 1.        ],\n",
       "       [0.        , 0.        , 0.        , 0.        , 0.        ,\n",
       "        0.        , 0.        , 0.        , 1.        , 1.        ,\n",
       "        0.        , 0.        , 0.        , 1.        , 0.08965517],\n",
       "       [0.        , 0.        , 0.        , 0.        , 0.        ,\n",
       "        0.        , 0.        , 1.        , 0.        , 1.        ,\n",
       "        0.        , 0.        , 0.        , 0.83333333, 0.04827586]])"
      ]
     },
     "execution_count": 44,
     "metadata": {},
     "output_type": "execute_result"
    }
   ],
   "source": [
    "X_mmax[:10]"
   ]
  },
  {
   "cell_type": "markdown",
   "metadata": {},
   "source": [
    "# Kategorik değişken işleme farklı bir yöntem"
   ]
  },
  {
   "cell_type": "code",
   "execution_count": 45,
   "metadata": {},
   "outputs": [],
   "source": [
    "# kategorik değişken isimlerini prefix yaparak ve pandas dataframe'i terketmeyerek kategorik\n",
    "df_dummy = pd.get_dummies(df.drop('isim', axis=1), prefix=['meslek', 'sehir'], drop_first=False)"
   ]
  },
  {
   "cell_type": "code",
   "execution_count": 46,
   "metadata": {},
   "outputs": [
    {
     "data": {
      "text/html": [
       "<div>\n",
       "<style scoped>\n",
       "    .dataframe tbody tr th:only-of-type {\n",
       "        vertical-align: middle;\n",
       "    }\n",
       "\n",
       "    .dataframe tbody tr th {\n",
       "        vertical-align: top;\n",
       "    }\n",
       "\n",
       "    .dataframe thead th {\n",
       "        text-align: right;\n",
       "    }\n",
       "</style>\n",
       "<table border=\"1\" class=\"dataframe\">\n",
       "  <thead>\n",
       "    <tr style=\"text-align: right;\">\n",
       "      <th></th>\n",
       "      <th>sirano</th>\n",
       "      <th>yas</th>\n",
       "      <th>aylik_gelir</th>\n",
       "      <th>aylik_gelir2</th>\n",
       "      <th>yas2</th>\n",
       "      <th>aylik_gelir3</th>\n",
       "      <th>meslek_Asistan</th>\n",
       "      <th>meslek_Berber</th>\n",
       "      <th>meslek_Doktor</th>\n",
       "      <th>meslek_Isci</th>\n",
       "      <th>meslek_Memur</th>\n",
       "      <th>meslek_Müzisyen</th>\n",
       "      <th>meslek_Pazarlamaci</th>\n",
       "      <th>meslek_Tornacı</th>\n",
       "      <th>meslek_Tuhafiyeci</th>\n",
       "      <th>sehir_Ankara</th>\n",
       "      <th>sehir_Istanbul</th>\n",
       "      <th>sehir_Kayseri</th>\n",
       "      <th>sehir_İzmir</th>\n",
       "    </tr>\n",
       "  </thead>\n",
       "  <tbody>\n",
       "    <tr>\n",
       "      <td>0</td>\n",
       "      <td>1</td>\n",
       "      <td>35.0</td>\n",
       "      <td>3500.0</td>\n",
       "      <td>3500.0</td>\n",
       "      <td>35.0</td>\n",
       "      <td>3500.0</td>\n",
       "      <td>0</td>\n",
       "      <td>0</td>\n",
       "      <td>0</td>\n",
       "      <td>1</td>\n",
       "      <td>0</td>\n",
       "      <td>0</td>\n",
       "      <td>0</td>\n",
       "      <td>0</td>\n",
       "      <td>0</td>\n",
       "      <td>1</td>\n",
       "      <td>0</td>\n",
       "      <td>0</td>\n",
       "      <td>0</td>\n",
       "    </tr>\n",
       "    <tr>\n",
       "      <td>1</td>\n",
       "      <td>2</td>\n",
       "      <td>42.0</td>\n",
       "      <td>4200.0</td>\n",
       "      <td>4200.0</td>\n",
       "      <td>42.0</td>\n",
       "      <td>4200.0</td>\n",
       "      <td>0</td>\n",
       "      <td>0</td>\n",
       "      <td>0</td>\n",
       "      <td>0</td>\n",
       "      <td>1</td>\n",
       "      <td>0</td>\n",
       "      <td>0</td>\n",
       "      <td>0</td>\n",
       "      <td>0</td>\n",
       "      <td>0</td>\n",
       "      <td>0</td>\n",
       "      <td>1</td>\n",
       "      <td>0</td>\n",
       "    </tr>\n",
       "    <tr>\n",
       "      <td>2</td>\n",
       "      <td>3</td>\n",
       "      <td>30.0</td>\n",
       "      <td>9000.0</td>\n",
       "      <td>9000.0</td>\n",
       "      <td>30.0</td>\n",
       "      <td>9000.0</td>\n",
       "      <td>0</td>\n",
       "      <td>0</td>\n",
       "      <td>0</td>\n",
       "      <td>0</td>\n",
       "      <td>0</td>\n",
       "      <td>1</td>\n",
       "      <td>0</td>\n",
       "      <td>0</td>\n",
       "      <td>0</td>\n",
       "      <td>0</td>\n",
       "      <td>1</td>\n",
       "      <td>0</td>\n",
       "      <td>0</td>\n",
       "    </tr>\n",
       "    <tr>\n",
       "      <td>3</td>\n",
       "      <td>4</td>\n",
       "      <td>29.0</td>\n",
       "      <td>4200.0</td>\n",
       "      <td>4200.0</td>\n",
       "      <td>29.0</td>\n",
       "      <td>4200.0</td>\n",
       "      <td>0</td>\n",
       "      <td>0</td>\n",
       "      <td>0</td>\n",
       "      <td>0</td>\n",
       "      <td>0</td>\n",
       "      <td>0</td>\n",
       "      <td>1</td>\n",
       "      <td>0</td>\n",
       "      <td>0</td>\n",
       "      <td>1</td>\n",
       "      <td>0</td>\n",
       "      <td>0</td>\n",
       "      <td>0</td>\n",
       "    </tr>\n",
       "    <tr>\n",
       "      <td>4</td>\n",
       "      <td>6</td>\n",
       "      <td>33.0</td>\n",
       "      <td>4250.0</td>\n",
       "      <td>4250.0</td>\n",
       "      <td>33.0</td>\n",
       "      <td>4250.0</td>\n",
       "      <td>0</td>\n",
       "      <td>0</td>\n",
       "      <td>0</td>\n",
       "      <td>0</td>\n",
       "      <td>1</td>\n",
       "      <td>0</td>\n",
       "      <td>0</td>\n",
       "      <td>0</td>\n",
       "      <td>0</td>\n",
       "      <td>1</td>\n",
       "      <td>0</td>\n",
       "      <td>0</td>\n",
       "      <td>0</td>\n",
       "    </tr>\n",
       "  </tbody>\n",
       "</table>\n",
       "</div>"
      ],
      "text/plain": [
       "   sirano   yas  aylik_gelir  aylik_gelir2  yas2  aylik_gelir3  \\\n",
       "0       1  35.0       3500.0        3500.0  35.0        3500.0   \n",
       "1       2  42.0       4200.0        4200.0  42.0        4200.0   \n",
       "2       3  30.0       9000.0        9000.0  30.0        9000.0   \n",
       "3       4  29.0       4200.0        4200.0  29.0        4200.0   \n",
       "4       6  33.0       4250.0        4250.0  33.0        4250.0   \n",
       "\n",
       "   meslek_Asistan  meslek_Berber  meslek_Doktor  meslek_Isci  meslek_Memur  \\\n",
       "0               0              0              0            1             0   \n",
       "1               0              0              0            0             1   \n",
       "2               0              0              0            0             0   \n",
       "3               0              0              0            0             0   \n",
       "4               0              0              0            0             1   \n",
       "\n",
       "   meslek_Müzisyen  meslek_Pazarlamaci  meslek_Tornacı  meslek_Tuhafiyeci  \\\n",
       "0                0                   0               0                  0   \n",
       "1                0                   0               0                  0   \n",
       "2                1                   0               0                  0   \n",
       "3                0                   1               0                  0   \n",
       "4                0                   0               0                  0   \n",
       "\n",
       "   sehir_Ankara  sehir_Istanbul  sehir_Kayseri  sehir_İzmir  \n",
       "0             1               0              0            0  \n",
       "1             0               0              1            0  \n",
       "2             0               1              0            0  \n",
       "3             1               0              0            0  \n",
       "4             1               0              0            0  "
      ]
     },
     "execution_count": 46,
     "metadata": {},
     "output_type": "execute_result"
    }
   ],
   "source": [
    "df_dummy.head()"
   ]
  },
  {
   "cell_type": "code",
   "execution_count": 47,
   "metadata": {},
   "outputs": [],
   "source": [
    "df_dummy = pd.get_dummies(df.drop('isim', axis=1), prefix=['meslek', 'sehir'], drop_first=True)"
   ]
  },
  {
   "cell_type": "code",
   "execution_count": 48,
   "metadata": {
    "scrolled": true
   },
   "outputs": [
    {
     "data": {
      "text/html": [
       "<div>\n",
       "<style scoped>\n",
       "    .dataframe tbody tr th:only-of-type {\n",
       "        vertical-align: middle;\n",
       "    }\n",
       "\n",
       "    .dataframe tbody tr th {\n",
       "        vertical-align: top;\n",
       "    }\n",
       "\n",
       "    .dataframe thead th {\n",
       "        text-align: right;\n",
       "    }\n",
       "</style>\n",
       "<table border=\"1\" class=\"dataframe\">\n",
       "  <thead>\n",
       "    <tr style=\"text-align: right;\">\n",
       "      <th></th>\n",
       "      <th>sirano</th>\n",
       "      <th>yas</th>\n",
       "      <th>aylik_gelir</th>\n",
       "      <th>aylik_gelir2</th>\n",
       "      <th>yas2</th>\n",
       "      <th>aylik_gelir3</th>\n",
       "      <th>meslek_Berber</th>\n",
       "      <th>meslek_Doktor</th>\n",
       "      <th>meslek_Isci</th>\n",
       "      <th>meslek_Memur</th>\n",
       "      <th>meslek_Müzisyen</th>\n",
       "      <th>meslek_Pazarlamaci</th>\n",
       "      <th>meslek_Tornacı</th>\n",
       "      <th>meslek_Tuhafiyeci</th>\n",
       "      <th>sehir_Istanbul</th>\n",
       "      <th>sehir_Kayseri</th>\n",
       "      <th>sehir_İzmir</th>\n",
       "    </tr>\n",
       "  </thead>\n",
       "  <tbody>\n",
       "    <tr>\n",
       "      <td>0</td>\n",
       "      <td>1</td>\n",
       "      <td>35.0</td>\n",
       "      <td>3500.0</td>\n",
       "      <td>3500.0</td>\n",
       "      <td>35.0</td>\n",
       "      <td>3500.0</td>\n",
       "      <td>0</td>\n",
       "      <td>0</td>\n",
       "      <td>1</td>\n",
       "      <td>0</td>\n",
       "      <td>0</td>\n",
       "      <td>0</td>\n",
       "      <td>0</td>\n",
       "      <td>0</td>\n",
       "      <td>0</td>\n",
       "      <td>0</td>\n",
       "      <td>0</td>\n",
       "    </tr>\n",
       "    <tr>\n",
       "      <td>1</td>\n",
       "      <td>2</td>\n",
       "      <td>42.0</td>\n",
       "      <td>4200.0</td>\n",
       "      <td>4200.0</td>\n",
       "      <td>42.0</td>\n",
       "      <td>4200.0</td>\n",
       "      <td>0</td>\n",
       "      <td>0</td>\n",
       "      <td>0</td>\n",
       "      <td>1</td>\n",
       "      <td>0</td>\n",
       "      <td>0</td>\n",
       "      <td>0</td>\n",
       "      <td>0</td>\n",
       "      <td>0</td>\n",
       "      <td>1</td>\n",
       "      <td>0</td>\n",
       "    </tr>\n",
       "    <tr>\n",
       "      <td>2</td>\n",
       "      <td>3</td>\n",
       "      <td>30.0</td>\n",
       "      <td>9000.0</td>\n",
       "      <td>9000.0</td>\n",
       "      <td>30.0</td>\n",
       "      <td>9000.0</td>\n",
       "      <td>0</td>\n",
       "      <td>0</td>\n",
       "      <td>0</td>\n",
       "      <td>0</td>\n",
       "      <td>1</td>\n",
       "      <td>0</td>\n",
       "      <td>0</td>\n",
       "      <td>0</td>\n",
       "      <td>1</td>\n",
       "      <td>0</td>\n",
       "      <td>0</td>\n",
       "    </tr>\n",
       "    <tr>\n",
       "      <td>3</td>\n",
       "      <td>4</td>\n",
       "      <td>29.0</td>\n",
       "      <td>4200.0</td>\n",
       "      <td>4200.0</td>\n",
       "      <td>29.0</td>\n",
       "      <td>4200.0</td>\n",
       "      <td>0</td>\n",
       "      <td>0</td>\n",
       "      <td>0</td>\n",
       "      <td>0</td>\n",
       "      <td>0</td>\n",
       "      <td>1</td>\n",
       "      <td>0</td>\n",
       "      <td>0</td>\n",
       "      <td>0</td>\n",
       "      <td>0</td>\n",
       "      <td>0</td>\n",
       "    </tr>\n",
       "    <tr>\n",
       "      <td>4</td>\n",
       "      <td>6</td>\n",
       "      <td>33.0</td>\n",
       "      <td>4250.0</td>\n",
       "      <td>4250.0</td>\n",
       "      <td>33.0</td>\n",
       "      <td>4250.0</td>\n",
       "      <td>0</td>\n",
       "      <td>0</td>\n",
       "      <td>0</td>\n",
       "      <td>1</td>\n",
       "      <td>0</td>\n",
       "      <td>0</td>\n",
       "      <td>0</td>\n",
       "      <td>0</td>\n",
       "      <td>0</td>\n",
       "      <td>0</td>\n",
       "      <td>0</td>\n",
       "    </tr>\n",
       "  </tbody>\n",
       "</table>\n",
       "</div>"
      ],
      "text/plain": [
       "   sirano   yas  aylik_gelir  aylik_gelir2  yas2  aylik_gelir3  meslek_Berber  \\\n",
       "0       1  35.0       3500.0        3500.0  35.0        3500.0              0   \n",
       "1       2  42.0       4200.0        4200.0  42.0        4200.0              0   \n",
       "2       3  30.0       9000.0        9000.0  30.0        9000.0              0   \n",
       "3       4  29.0       4200.0        4200.0  29.0        4200.0              0   \n",
       "4       6  33.0       4250.0        4250.0  33.0        4250.0              0   \n",
       "\n",
       "   meslek_Doktor  meslek_Isci  meslek_Memur  meslek_Müzisyen  \\\n",
       "0              0            1             0                0   \n",
       "1              0            0             1                0   \n",
       "2              0            0             0                1   \n",
       "3              0            0             0                0   \n",
       "4              0            0             1                0   \n",
       "\n",
       "   meslek_Pazarlamaci  meslek_Tornacı  meslek_Tuhafiyeci  sehir_Istanbul  \\\n",
       "0                   0               0                  0               0   \n",
       "1                   0               0                  0               0   \n",
       "2                   0               0                  0               1   \n",
       "3                   1               0                  0               0   \n",
       "4                   0               0                  0               0   \n",
       "\n",
       "   sehir_Kayseri  sehir_İzmir  \n",
       "0              0            0  \n",
       "1              1            0  \n",
       "2              0            0  \n",
       "3              0            0  \n",
       "4              0            0  "
      ]
     },
     "execution_count": 48,
     "metadata": {},
     "output_type": "execute_result"
    }
   ],
   "source": [
    "df_dummy.head()"
   ]
  },
  {
   "cell_type": "markdown",
   "metadata": {},
   "source": [
    "# Ödev-20"
   ]
  },
  {
   "cell_type": "code",
   "execution_count": 1,
   "metadata": {},
   "outputs": [],
   "source": [
    "# ../preprocessing/healthcare_insurance_to_preprocessed.csv \n",
    "# veri setini veri ön hazırlığını yapınız."
   ]
  },
  {
   "cell_type": "code",
   "execution_count": null,
   "metadata": {},
   "outputs": [],
   "source": []
  }
 ],
 "metadata": {
  "kernelspec": {
   "display_name": "Python 3",
   "language": "python",
   "name": "python3"
  },
  "language_info": {
   "codemirror_mode": {
    "name": "ipython",
    "version": 3
   },
   "file_extension": ".py",
   "mimetype": "text/x-python",
   "name": "python",
   "nbconvert_exporter": "python",
   "pygments_lexer": "ipython3",
   "version": "3.6.8"
  }
 },
 "nbformat": 4,
 "nbformat_minor": 2
}
