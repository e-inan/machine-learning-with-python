{
 "cells": [
  {
   "cell_type": "markdown",
   "metadata": {},
   "source": [
    "# 01_python_basic: alıştırma - 1"
   ]
  },
  {
   "cell_type": "markdown",
   "metadata": {},
   "source": [
    "Kullanıcıdan 2 rakam alan ve toplamını ekrana yazan bir python programı yazınız."
   ]
  },
  {
   "cell_type": "code",
   "execution_count": 1,
   "metadata": {},
   "outputs": [
    {
     "name": "stdout",
     "output_type": "stream",
     "text": [
      "İlk sayı:5\n",
      "İkinci sayı:3\n",
      "Girdiğiniz iki sayının toplamı: 8\n"
     ]
    }
   ],
   "source": [
    "rakam1 = input(\"İlk sayı:\")\n",
    "rakam2 = input(\"İkinci sayı:\")\n",
    "toplam = int(rakam1) + int(rakam2)\n",
    "print(\"Girdiğiniz iki sayının toplamı:\", toplam)"
   ]
  },
  {
   "cell_type": "markdown",
   "metadata": {},
   "source": [
    "# 01_python_basic: alıştırma - 2"
   ]
  },
  {
   "cell_type": "markdown",
   "metadata": {},
   "source": [
    "    Kullanıcıdan girdi olarak alınan rakam notun harf karşılığını ekrana yazdıran bir program yazınız.\n",
    "\n",
    "    90-100 arası A\n",
    "    80-89 arası B\n",
    "    70-79 arası C\n",
    "    60-69 arası D\n",
    "    50-59 arası E\n",
    "    0-49 arası F"
   ]
  },
  {
   "cell_type": "code",
   "execution_count": 4,
   "metadata": {},
   "outputs": [
    {
     "name": "stdout",
     "output_type": "stream",
     "text": [
      "Notu giriniz: 111\n",
      "Lütfen 0-100 arası bir rakam giriniz.\n"
     ]
    }
   ],
   "source": [
    "harf_not = \"\"\n",
    "ders_notu = input(\"Notu giriniz: \")\n",
    "try:\n",
    "    ders_notu2 = int(ders_notu)\n",
    "    if ders_notu2 > 100 or ders_notu2 <0:\n",
    "        harf_not=\"Lütfen 0-100 arası bir rakam giriniz.\"\n",
    "    elif ders_notu2 >= 90:\n",
    "        harf_not = \"A\"\n",
    "    elif ders_notu2 > 80:\n",
    "        harf_not = \"B\"\n",
    "    elif ders_notu2 > 70:\n",
    "        harf_not = \"C\"\n",
    "    elif ders_notu2 > 60:\n",
    "        harf_not = \"D\"\n",
    "    elif ders_notu2 > 50:\n",
    "        harf_not = \"E\"\n",
    "    else: harf_not = \"F\"  \n",
    "    \n",
    "    print(harf_not)\n",
    "except ValueError:\n",
    "    print(\"Lütfen sadece rakam giriniz.\")"
   ]
  },
  {
   "cell_type": "markdown",
   "metadata": {},
   "source": [
    "## Daha güzel bir yöntem"
   ]
  },
  {
   "cell_type": "code",
   "execution_count": 6,
   "metadata": {},
   "outputs": [
    {
     "name": "stdout",
     "output_type": "stream",
     "text": [
      "Notu giriniz: lll\n",
      "Lütfen sadece rakam giriniz.\n",
      "Notu giriniz: ddd\n",
      "Lütfen sadece rakam giriniz.\n",
      "Notu giriniz: 34\n",
      "F\n"
     ]
    }
   ],
   "source": [
    "def not_hesapla():\n",
    "    harf_not = \"\"\n",
    "    ders_notu = input(\"Notu giriniz: \")\n",
    "    try:\n",
    "        ders_notu2 = int(ders_notu)\n",
    "        if ders_notu2 > 100 or ders_notu2 <0:\n",
    "            harf_not=\"Lütfen 0-100 arası bir rakam giriniz.\"\n",
    "        elif ders_notu2 >= 90:\n",
    "            harf_not = \"A\"\n",
    "        elif ders_notu2 > 80:\n",
    "            harf_not = \"B\"\n",
    "        elif ders_notu2 > 70:\n",
    "            harf_not = \"C\"\n",
    "        elif ders_notu2 > 60:\n",
    "            harf_not = \"D\"\n",
    "        elif ders_notu2 > 50:\n",
    "            harf_not = \"E\"\n",
    "        else: harf_not = \"F\"  \n",
    "        print(harf_not)\n",
    "    except ValueError:\n",
    "        print(\"Lütfen sadece rakam giriniz.\")\n",
    "        not_hesapla()\n",
    "\n",
    "        \n",
    "not_hesapla()"
   ]
  },
  {
   "cell_type": "markdown",
   "metadata": {},
   "source": [
    "# 01_python_basic: alıştırma - 3"
   ]
  },
  {
   "cell_type": "code",
   "execution_count": 5,
   "metadata": {},
   "outputs": [],
   "source": [
    "# 0-20 arasında 3'e tam bölünebilen sayıları for döngüsü kullanarak yazdırınız."
   ]
  },
  {
   "cell_type": "code",
   "execution_count": 6,
   "metadata": {},
   "outputs": [
    {
     "name": "stdout",
     "output_type": "stream",
     "text": [
      "0\n",
      "3\n",
      "6\n",
      "9\n",
      "12\n",
      "15\n",
      "18\n"
     ]
    }
   ],
   "source": [
    "for i in range(20):\n",
    "    if(i % 3 == 0):\n",
    "        print(i)"
   ]
  },
  {
   "cell_type": "code",
   "execution_count": 7,
   "metadata": {},
   "outputs": [
    {
     "name": "stdout",
     "output_type": "stream",
     "text": [
      "0\n",
      "3\n",
      "6\n",
      "9\n",
      "12\n",
      "15\n",
      "18\n"
     ]
    }
   ],
   "source": [
    "start = 0\n",
    "stop = 20\n",
    "while stop > start:\n",
    "    if(start % 3 == 0):\n",
    "        print(start)\n",
    "    start += 1"
   ]
  },
  {
   "cell_type": "markdown",
   "metadata": {},
   "source": [
    "# 01_python_basic: alıştırma - 4"
   ]
  },
  {
   "cell_type": "code",
   "execution_count": 10,
   "metadata": {},
   "outputs": [
    {
     "name": "stdout",
     "output_type": "stream",
     "text": [
      "Muz\n"
     ]
    }
   ],
   "source": [
    "# Muz elemanına erişim\n",
    "my_list = [1,3,[\"Elma\",\"Muz\"], 25,198, [22,32]]\n",
    "\n",
    "print(my_list[2][1])"
   ]
  },
  {
   "cell_type": "markdown",
   "metadata": {},
   "source": [
    "# 01_python_basic: alıştırma - 5"
   ]
  },
  {
   "cell_type": "code",
   "execution_count": 7,
   "metadata": {},
   "outputs": [],
   "source": [
    "# Python liste metodları listesi içindeki \"__\" içermeyen metod isimlerini yazdırınız."
   ]
  },
  {
   "cell_type": "code",
   "execution_count": 9,
   "metadata": {},
   "outputs": [
    {
     "name": "stdout",
     "output_type": "stream",
     "text": [
      "['append', 'clear', 'copy', 'count', 'extend', 'index', 'insert', 'pop', 'remove', 'reverse', 'sort']\n"
     ]
    }
   ],
   "source": [
    "without_ =[]\n",
    "for word in dir(list):\n",
    "    if \"__\" not in word:\n",
    "        without_.append(word)\n",
    "\n",
    "print(without_)"
   ]
  },
  {
   "cell_type": "markdown",
   "metadata": {},
   "source": [
    "# 01_python_basic: alıştırma - 6"
   ]
  },
  {
   "cell_type": "code",
   "execution_count": 11,
   "metadata": {},
   "outputs": [],
   "source": [
    "# ['Emel','Ali','Mehtap','Soner','Fatma'] listesinden Mehtap ismini çıkarıp yerine Menşure'yi ekleyiniz."
   ]
  },
  {
   "cell_type": "markdown",
   "metadata": {},
   "source": [
    "## Yöntem-1"
   ]
  },
  {
   "cell_type": "code",
   "execution_count": 12,
   "metadata": {},
   "outputs": [],
   "source": [
    "listem = ['Emel','Ali','Mehtap','Soner','Fatma'] "
   ]
  },
  {
   "cell_type": "code",
   "execution_count": 14,
   "metadata": {},
   "outputs": [
    {
     "name": "stdout",
     "output_type": "stream",
     "text": [
      "['Emel', 'Ali', 'Menşure', 'Soner', 'Fatma']\n"
     ]
    }
   ],
   "source": [
    "for i in range(len(listem)):\n",
    "    if listem[i] == 'Mehtap':\n",
    "        listem[i] = 'Menşure'\n",
    "\n",
    "print(listem)"
   ]
  },
  {
   "cell_type": "markdown",
   "metadata": {},
   "source": [
    "## Yöntem-2"
   ]
  },
  {
   "cell_type": "code",
   "execution_count": 14,
   "metadata": {},
   "outputs": [
    {
     "name": "stdout",
     "output_type": "stream",
     "text": [
      "['Emel', 'Ali', 'Menşure', 'Soner', 'Fatma']\n"
     ]
    }
   ],
   "source": [
    "listem = ['Emel','Ali','Mehtap','Soner','Fatma'] \n",
    "\n",
    "# Mehtap'ın indisini öğrenelim\n",
    "indis_of_mehtap = listem.index(\"Mehtap\")\n",
    "\n",
    "# Mehtap'ı silelim.\n",
    "del listem[indis_of_mehtap]\n",
    "\n",
    "# Mehtap'ı silmeden önce indisini öğrenmeiştik. Aynı indise Menşure'yi ekleyelim.\n",
    "listem.insert(indis_of_mehtap, \"Menşure\")\n",
    "print(listem)"
   ]
  },
  {
   "cell_type": "markdown",
   "metadata": {},
   "source": [
    "# 01_python_basic: alıştırma - 7"
   ]
  },
  {
   "cell_type": "code",
   "execution_count": 15,
   "metadata": {},
   "outputs": [],
   "source": [
    "# [22, 36, 45, 62, 39, 10, 25] listesi içindeki tek ve çift sayıları iki farklı liste içine ayrıştırınız."
   ]
  },
  {
   "cell_type": "code",
   "execution_count": 16,
   "metadata": {},
   "outputs": [],
   "source": [
    "ana_liste = [22, 36, 45, 62, 39, 10, 25]\n",
    "ciftler = []\n",
    "tekler = []\n",
    "\n",
    "for i in ana_liste:\n",
    "    if i % 2 == 0:\n",
    "        ciftler.append(i)\n",
    "    else: tekler.append(i)"
   ]
  },
  {
   "cell_type": "code",
   "execution_count": 17,
   "metadata": {},
   "outputs": [
    {
     "name": "stdout",
     "output_type": "stream",
     "text": [
      "[22, 36, 62, 10]\n",
      "[45, 39, 25]\n"
     ]
    }
   ],
   "source": [
    "print(ciftler)\n",
    "print(tekler)"
   ]
  },
  {
   "cell_type": "markdown",
   "metadata": {},
   "source": [
    "# 01_python_basic: alıştırma - 8"
   ]
  },
  {
   "cell_type": "code",
   "execution_count": 1,
   "metadata": {},
   "outputs": [],
   "source": [
    "iller_ilceler = {\"İstanbul\":[\"Kadıköy\",\"Beşiktaş\",\"Üsküdar\",\"Şişli\"],\n",
    "                \"Ankara\":[\"Çankaya\",{\"Mamak\":['Merkez','Saimekadın','Boğaziçi']}],\n",
    "                \"İzmir\":[\"Karşıyaka\",\"Konak\"]}"
   ]
  },
  {
   "cell_type": "code",
   "execution_count": 19,
   "metadata": {},
   "outputs": [],
   "source": [
    "# 8.1. Yukarıdaki sözlük içinden Saimekadın mahallesine erişelim"
   ]
  },
  {
   "cell_type": "code",
   "execution_count": 2,
   "metadata": {},
   "outputs": [
    {
     "data": {
      "text/plain": [
       "['Çankaya', {'Mamak': ['Merkez', 'Saimekadın', 'Boğaziçi']}]"
      ]
     },
     "execution_count": 2,
     "metadata": {},
     "output_type": "execute_result"
    }
   ],
   "source": [
    "# Adım-1\n",
    "iller_ilceler[\"Ankara\"]"
   ]
  },
  {
   "cell_type": "code",
   "execution_count": 3,
   "metadata": {},
   "outputs": [
    {
     "data": {
      "text/plain": [
       "{'Mamak': ['Merkez', 'Saimekadın', 'Boğaziçi']}"
      ]
     },
     "execution_count": 3,
     "metadata": {},
     "output_type": "execute_result"
    }
   ],
   "source": [
    "# Adım-2\n",
    "iller_ilceler[\"Ankara\"][1]"
   ]
  },
  {
   "cell_type": "code",
   "execution_count": 4,
   "metadata": {},
   "outputs": [
    {
     "data": {
      "text/plain": [
       "['Merkez', 'Saimekadın', 'Boğaziçi']"
      ]
     },
     "execution_count": 4,
     "metadata": {},
     "output_type": "execute_result"
    }
   ],
   "source": [
    "# Adım-3\n",
    "iller_ilceler[\"Ankara\"][1][\"Mamak\"]"
   ]
  },
  {
   "cell_type": "code",
   "execution_count": 5,
   "metadata": {},
   "outputs": [
    {
     "data": {
      "text/plain": [
       "'Saimekadın'"
      ]
     },
     "execution_count": 5,
     "metadata": {},
     "output_type": "execute_result"
    }
   ],
   "source": [
    "# Adım-4\n",
    "iller_ilceler[\"Ankara\"][1][\"Mamak\"][1]"
   ]
  },
  {
   "cell_type": "code",
   "execution_count": 24,
   "metadata": {},
   "outputs": [],
   "source": [
    "# 8.2. Yukarıdaki sözlükte İzmir' Urla ilçesini ekleyiniz."
   ]
  },
  {
   "cell_type": "code",
   "execution_count": 6,
   "metadata": {},
   "outputs": [
    {
     "data": {
      "text/plain": [
       "['Karşıyaka', 'Konak']"
      ]
     },
     "execution_count": 6,
     "metadata": {},
     "output_type": "execute_result"
    }
   ],
   "source": [
    "# İzmir anahtarı ile ulaştığım değer ne türden bir bakalım\n",
    "iller_ilceler[\"İzmir\"]"
   ]
  },
  {
   "cell_type": "code",
   "execution_count": null,
   "metadata": {},
   "outputs": [],
   "source": [
    "# Sonuç liste olduğuna göre ben buna listelerin append() metoduyla eleman ekleyebilirim."
   ]
  },
  {
   "cell_type": "code",
   "execution_count": 7,
   "metadata": {},
   "outputs": [],
   "source": [
    "iller_ilceler[\"İzmir\"].append(\"Urla\")"
   ]
  },
  {
   "cell_type": "code",
   "execution_count": 8,
   "metadata": {},
   "outputs": [
    {
     "name": "stdout",
     "output_type": "stream",
     "text": [
      "{'İstanbul': ['Kadıköy', 'Beşiktaş', 'Üsküdar', 'Şişli'], 'Ankara': ['Çankaya', {'Mamak': ['Merkez', 'Saimekadın', 'Boğaziçi']}], 'İzmir': ['Karşıyaka', 'Konak', 'Urla']}\n"
     ]
    }
   ],
   "source": [
    "print(iller_ilceler)"
   ]
  },
  {
   "cell_type": "markdown",
   "metadata": {},
   "source": [
    "# 01_python_basic: alıştırma - 9"
   ]
  },
  {
   "cell_type": "markdown",
   "metadata": {},
   "source": [
    "    Bir üniversite öğrencisinin mezuniyet başarısı sadece diploma notuna göre değil çeşitli faktörlere göre belirlenmektedir.\n",
    "    Ancak tüm öğrenciler diploma notuna sahip olmasına rağmen bazı öğrenciler bazı aktivitelerden puanı varken bazılarının yoktur.\n",
    "    Örneğin;\n",
    "    Ahmet basketbol ve yüzme takımlarındadır\n",
    "    Ayşe ise sadece resimle uğraşmıştır\n",
    "    Fulya gönüllü organizasyonlarda görev almıştır\n",
    "    Tuna okul caz grubunda bas gitar çalmaktadır\n",
    "    Gündüz hiç bir etkinliğe katılmamıştır.\n",
    "\n",
    "    Her öğrencinin yaptığı bu faaliyetlerin rakamlarla ölçülebildiği varsayılmaktadır.\n",
    "    Öğrenci başarıları diploma notuna faaliyet puanlarının eklenmesiyle belirlenmektedir.\n",
    "    Öğrenci başarısını hesaplayan fonksiyonu yazınız."
   ]
  },
  {
   "cell_type": "code",
   "execution_count": 51,
   "metadata": {},
   "outputs": [],
   "source": [
    "def basari(diploma_notu, *args):\n",
    "    \n",
    "    diger_toplam = 0\n",
    "    diger_toplam = sum(i for i in args)\n",
    "    return diploma_notu + diger_toplam"
   ]
  },
  {
   "cell_type": "code",
   "execution_count": 54,
   "metadata": {},
   "outputs": [
    {
     "data": {
      "text/plain": [
       "4.09"
      ]
     },
     "execution_count": 54,
     "metadata": {},
     "output_type": "execute_result"
    }
   ],
   "source": [
    "basari(3.75,0.11,0.23)"
   ]
  },
  {
   "cell_type": "code",
   "execution_count": 12,
   "metadata": {},
   "outputs": [
    {
     "data": {
      "text/plain": [
       "3"
      ]
     },
     "execution_count": 12,
     "metadata": {},
     "output_type": "execute_result"
    }
   ],
   "source": [
    "basari(3)"
   ]
  },
  {
   "cell_type": "code",
   "execution_count": 13,
   "metadata": {},
   "outputs": [
    {
     "data": {
      "text/plain": [
       "114"
      ]
     },
     "execution_count": 13,
     "metadata": {},
     "output_type": "execute_result"
    }
   ],
   "source": [
    "basari(3,5,4,3,6,7,8,9,6,56,5,2)"
   ]
  },
  {
   "cell_type": "code",
   "execution_count": null,
   "metadata": {},
   "outputs": [],
   "source": []
  },
  {
   "cell_type": "code",
   "execution_count": null,
   "metadata": {},
   "outputs": [],
   "source": []
  },
  {
   "cell_type": "code",
   "execution_count": null,
   "metadata": {},
   "outputs": [],
   "source": []
  },
  {
   "cell_type": "markdown",
   "metadata": {},
   "source": [
    "# Dosyadan okuyarak benzer bir problem\""
   ]
  },
  {
   "cell_type": "code",
   "execution_count": 41,
   "metadata": {},
   "outputs": [],
   "source": [
    "with open(\"notlar.txt\", \"r\") as f:\n",
    "    notlar = f.readlines()"
   ]
  },
  {
   "cell_type": "code",
   "execution_count": 42,
   "metadata": {},
   "outputs": [
    {
     "name": "stdout",
     "output_type": "stream",
     "text": [
      "['ogrenci diploma etkinlikler\\n', 'Ahmet 3.84 0.12 0.22\\n', 'Mehmet 3.22\\n', 'Esra 2.88 0.18 0.22']\n"
     ]
    }
   ],
   "source": [
    "print(notlar)"
   ]
  },
  {
   "cell_type": "code",
   "execution_count": 43,
   "metadata": {},
   "outputs": [],
   "source": [
    "# dosyadan okunan listeyi temizleyelim:\n",
    "# Önce başlık satırından kurtulalım\n",
    "# Sonra \\n den.\n",
    "notlar2 = [i.replace(\"\\n\",\"\") for i in notlar if \"ogrenci\" not in i]"
   ]
  },
  {
   "cell_type": "code",
   "execution_count": 44,
   "metadata": {},
   "outputs": [
    {
     "name": "stdout",
     "output_type": "stream",
     "text": [
      "['Ahmet 3.84 0.12 0.22', 'Mehmet 3.22', 'Esra 2.88 0.18 0.22']\n"
     ]
    }
   ],
   "source": [
    "print(notlar2)"
   ]
  },
  {
   "cell_type": "code",
   "execution_count": 49,
   "metadata": {},
   "outputs": [
    {
     "name": "stdout",
     "output_type": "stream",
     "text": [
      "['Ahmet', '3.84', '0.12', '0.22']\n",
      "['Mehmet', '3.22']\n",
      "['Esra', '2.88', '0.18', '0.22']\n"
     ]
    }
   ],
   "source": [
    "import re\n",
    "for i in notlar2:\n",
    "    print(re.split(\"\\s+\", i))"
   ]
  },
  {
   "cell_type": "code",
   "execution_count": 68,
   "metadata": {},
   "outputs": [
    {
     "name": "stdout",
     "output_type": "stream",
     "text": [
      "[['Ahmet', '3.84', '0.12', '0.22'], ['Mehmet', '3.22'], ['Esra', '2.88', '0.18', '0.22']]\n"
     ]
    }
   ],
   "source": [
    "notlar3 = [re.split(\"\\s+\", i) for i in notlar2]\n",
    "print(notlar3)"
   ]
  },
  {
   "cell_type": "code",
   "execution_count": 75,
   "metadata": {},
   "outputs": [
    {
     "name": "stdout",
     "output_type": "stream",
     "text": [
      "[3.84, 0.12, 0.22]\n",
      "4.18\n",
      "[3.22]\n",
      "3.22\n",
      "[2.88, 0.18, 0.22]\n",
      "3.2800000000000002\n"
     ]
    }
   ],
   "source": [
    "for i in notlar3:\n",
    "    print([float(j) for j in i[1:]])\n",
    "    print( sum([float(j) for j in i[1:]])  )\n",
    "    "
   ]
  },
  {
   "cell_type": "code",
   "execution_count": 83,
   "metadata": {},
   "outputs": [],
   "source": [
    "def basari_from_file(file_name):\n",
    "    \n",
    "    basari_notu = []\n",
    "    ogrenciler = []\n",
    "    \n",
    "    with open(file_name, \"r\") as f:\n",
    "        notlar = f.readlines()\n",
    "    \n",
    "    notlar2 = [i.replace(\"\\n\",\"\") for i in notlar if \"ogrenci\" not in i]\n",
    "    \n",
    "    import re\n",
    "    notlar3 = [re.split(\"\\s+\", i) for i in notlar2]\n",
    "    \n",
    "    for i in notlar3:\n",
    "        basari_notu.append(sum([float(j) for j in i[1:]]))\n",
    "        ogrenciler.append(i[0])\n",
    "        \n",
    "    return zip(ogrenciler,basari_notu,)"
   ]
  },
  {
   "cell_type": "code",
   "execution_count": 84,
   "metadata": {},
   "outputs": [],
   "source": [
    "sonuc = basari_from_file(\"notlar.txt\")"
   ]
  },
  {
   "cell_type": "code",
   "execution_count": 85,
   "metadata": {},
   "outputs": [
    {
     "name": "stdout",
     "output_type": "stream",
     "text": [
      "<zip object at 0x00000183A05ABA88>\n"
     ]
    }
   ],
   "source": [
    "print(sonuc)"
   ]
  },
  {
   "cell_type": "code",
   "execution_count": 86,
   "metadata": {},
   "outputs": [
    {
     "name": "stdout",
     "output_type": "stream",
     "text": [
      "[('Ahmet', 4.18), ('Mehmet', 3.22), ('Esra', 3.2800000000000002)]\n"
     ]
    }
   ],
   "source": [
    "print(list(sonuc))"
   ]
  },
  {
   "cell_type": "markdown",
   "metadata": {},
   "source": [
    "# 01_python_basic: alıştırma - 10"
   ]
  },
  {
   "cell_type": "code",
   "execution_count": 77,
   "metadata": {},
   "outputs": [],
   "source": [
    "# İlk yöntemde liste nesne oluştururken argüman olarak sınıfa gönderilir"
   ]
  },
  {
   "cell_type": "code",
   "execution_count": 52,
   "metadata": {},
   "outputs": [],
   "source": [
    "class ErkanBasicStatistics:\n",
    "    def __init__(self, liste=[1,2,3,4,5]): # varsayılan liste atayalım\n",
    "        self.liste = liste\n",
    "    \n",
    "    def toplam(self):\n",
    "        toplam = 0\n",
    "        for i in self.liste:\n",
    "            toplam += i\n",
    "        return toplam\n",
    "        \n",
    "    \n",
    "    def ortalama(self):\n",
    "        toplam = self.toplam() # toplama işini yukarıdaki metot ile halletmiştik, onu kullanalım.\n",
    "        n = len(self.liste) # listenin eleman sayısı\n",
    "        ortalama = toplam/n # ortalama\n",
    "        return ortalama\n",
    "    \n",
    "    def standart_sapma(self):\n",
    "        import math\n",
    "        n = len(self.liste) # listenin eleman sayısı\n",
    "        \n",
    "        # Her bir elemanın ortalamadan farkının karelerinin toplamı\n",
    "        ort_fark_kare_top = sum(math.pow((i - self.ortalama()),2) for i in self.liste)\n",
    "        \n",
    "        # Eğer liste uzunluğu (gözlem sayısı) 30'dan küçükse n-1'e bölelim\n",
    "        if n < 30:\n",
    "            standart_sapma = math.sqrt(ort_fark_kare_top/(n-1))\n",
    "        # Liste eleman sayısı (gözlem sayısı) 30'dan büyükse n'e bölelim\n",
    "        else:\n",
    "            standart_sapma = math.sqrt(ort_fark_kare_top/n)\n",
    "        return standart_sapma\n",
    "        \n",
    "        \n",
    "        "
   ]
  },
  {
   "cell_type": "markdown",
   "metadata": {},
   "source": [
    "# Sınıf oluşturulurken verilecek örnek liste"
   ]
  },
  {
   "cell_type": "code",
   "execution_count": 55,
   "metadata": {},
   "outputs": [],
   "source": [
    "liste = [1,2,3,4,5,6,7]"
   ]
  },
  {
   "cell_type": "markdown",
   "metadata": {},
   "source": [
    "# Sınıf Nesnesini Oluşturma"
   ]
  },
  {
   "cell_type": "code",
   "execution_count": 56,
   "metadata": {},
   "outputs": [],
   "source": [
    "nesne = ErkanBasicStatistics(liste)"
   ]
  },
  {
   "cell_type": "markdown",
   "metadata": {},
   "source": [
    "# 1. Ortalama"
   ]
  },
  {
   "cell_type": "code",
   "execution_count": 57,
   "metadata": {},
   "outputs": [
    {
     "name": "stdout",
     "output_type": "stream",
     "text": [
      "4.0\n"
     ]
    }
   ],
   "source": [
    "print(nesne.ortalama())"
   ]
  },
  {
   "cell_type": "markdown",
   "metadata": {},
   "source": [
    "# 2. Toplam"
   ]
  },
  {
   "cell_type": "code",
   "execution_count": 58,
   "metadata": {},
   "outputs": [
    {
     "name": "stdout",
     "output_type": "stream",
     "text": [
      "28\n"
     ]
    }
   ],
   "source": [
    "print(nesne.toplam())"
   ]
  },
  {
   "cell_type": "markdown",
   "metadata": {},
   "source": [
    "# 3. Standart Sapma"
   ]
  },
  {
   "cell_type": "code",
   "execution_count": 59,
   "metadata": {},
   "outputs": [
    {
     "name": "stdout",
     "output_type": "stream",
     "text": [
      "2.160246899469287\n"
     ]
    }
   ],
   "source": [
    "print(nesne.standart_sapma())"
   ]
  },
  {
   "cell_type": "markdown",
   "metadata": {},
   "source": [
    "## Standart sapmanın teyidi"
   ]
  },
  {
   "cell_type": "code",
   "execution_count": 60,
   "metadata": {},
   "outputs": [
    {
     "data": {
      "text/plain": [
       "2.160246899469287"
      ]
     },
     "execution_count": 60,
     "metadata": {},
     "output_type": "execute_result"
    }
   ],
   "source": [
    "import statistics\n",
    "statistics.stdev(liste)"
   ]
  },
  {
   "cell_type": "markdown",
   "metadata": {},
   "source": [
    "# 2. Yöntem"
   ]
  },
  {
   "cell_type": "code",
   "execution_count": null,
   "metadata": {},
   "outputs": [],
   "source": [
    "# Bu yöntemde metodlar kullanılırken liste argüman olarak metot içinde kullanılır"
   ]
  },
  {
   "cell_type": "code",
   "execution_count": 72,
   "metadata": {},
   "outputs": [],
   "source": [
    "class ErkanBasicStatistics2:\n",
    "    def __init__(self):\n",
    "        self.liste = [1,2,3,4,5]\n",
    "       \n",
    "    def toplam(self, gelen_liste):\n",
    "        self.liste = gelen_liste\n",
    "        toplam = 0\n",
    "        for i in self.liste:\n",
    "            toplam += i\n",
    "        return toplam\n",
    "        \n",
    "    \n",
    "    def ortalama(self, gelen_liste):\n",
    "        self.liste = gelen_liste\n",
    "        toplam = self.toplam(self.liste) # toplama işini yukarıdaki metot ile halletmiştik, onu kullanalım.\n",
    "        n = len(self.liste) # listenin eleman sayısı\n",
    "        ortalama = toplam/n # ortalama\n",
    "        return ortalama\n",
    "    \n",
    "    def standart_sapma(self, gelen_liste):\n",
    "        self.liste = gelen_liste\n",
    "        import math\n",
    "        n = len(self.liste) # listenin eleman sayısı\n",
    "        \n",
    "        # Her bir elemanın ortalamadan farkının karelerinin toplamı\n",
    "        ort_fark_kare_top = sum(math.pow((i - self.ortalama(self.liste)),2) for i in self.liste)\n",
    "        \n",
    "        # Eğer liste uzunluğu (gözlem sayısı) 30'dan küçükse n-1'e bölelim\n",
    "        if n < 30:\n",
    "            standart_sapma = math.sqrt(ort_fark_kare_top/(n-1))\n",
    "        # Liste eleman sayısı (gözlem sayısı) 30'dan büyükse n'e bölelim\n",
    "        else:\n",
    "            standart_sapma = math.sqrt(ort_fark_kare_top/n)\n",
    "        return standart_sapma\n",
    "        "
   ]
  },
  {
   "cell_type": "code",
   "execution_count": 73,
   "metadata": {},
   "outputs": [],
   "source": [
    "nesne2 = ErkanBasicStatistics2()"
   ]
  },
  {
   "cell_type": "code",
   "execution_count": 74,
   "metadata": {},
   "outputs": [
    {
     "data": {
      "text/plain": [
       "4.0"
      ]
     },
     "execution_count": 74,
     "metadata": {},
     "output_type": "execute_result"
    }
   ],
   "source": [
    "nesne2.ortalama(liste)"
   ]
  },
  {
   "cell_type": "code",
   "execution_count": 75,
   "metadata": {},
   "outputs": [
    {
     "data": {
      "text/plain": [
       "28"
      ]
     },
     "execution_count": 75,
     "metadata": {},
     "output_type": "execute_result"
    }
   ],
   "source": [
    "nesne2.toplam(liste)"
   ]
  },
  {
   "cell_type": "code",
   "execution_count": 76,
   "metadata": {},
   "outputs": [
    {
     "data": {
      "text/plain": [
       "2.160246899469287"
      ]
     },
     "execution_count": 76,
     "metadata": {},
     "output_type": "execute_result"
    }
   ],
   "source": [
    "nesne2.standart_sapma(liste)"
   ]
  },
  {
   "cell_type": "code",
   "execution_count": null,
   "metadata": {},
   "outputs": [],
   "source": []
  }
 ],
 "metadata": {
  "kernelspec": {
   "display_name": "Python 3",
   "language": "python",
   "name": "python3"
  },
  "language_info": {
   "codemirror_mode": {
    "name": "ipython",
    "version": 3
   },
   "file_extension": ".py",
   "mimetype": "text/x-python",
   "name": "python",
   "nbconvert_exporter": "python",
   "pygments_lexer": "ipython3",
   "version": "3.6.8"
  }
 },
 "nbformat": 4,
 "nbformat_minor": 2
}
