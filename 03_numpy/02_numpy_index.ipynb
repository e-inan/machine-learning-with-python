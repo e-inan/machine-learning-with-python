{
 "cells": [
  {
   "cell_type": "code",
   "execution_count": 1,
   "metadata": {},
   "outputs": [],
   "source": [
    "import numpy as np"
   ]
  },
  {
   "cell_type": "code",
   "execution_count": 2,
   "metadata": {},
   "outputs": [
    {
     "name": "stdout",
     "output_type": "stream",
     "text": [
      "[[0.59876176 0.62015102 0.49435859 0.76329647 0.52300701]\n",
      " [0.05083535 0.65089501 0.02347592 0.57584922 0.37151169]\n",
      " [0.68703714 0.30741033 0.61871409 0.23863769 0.79587465]\n",
      " [0.1928868  0.54542898 0.85358245 0.72512937 0.31098882]\n",
      " [0.55140347 0.2254639  0.62160593 0.84203173 0.08957989]]\n"
     ]
    }
   ],
   "source": [
    "two_dim_float = np.random.rand(5,5)\n",
    "print(two_dim_float)"
   ]
  },
  {
   "cell_type": "markdown",
   "metadata": {},
   "source": [
    "# Sonuçların her defasında aynı olması için seed()"
   ]
  },
  {
   "cell_type": "code",
   "execution_count": 3,
   "metadata": {},
   "outputs": [
    {
     "name": "stdout",
     "output_type": "stream",
     "text": [
      "[[0.90206152 0.55780754 0.65598471 0.83247141 0.19988419]\n",
      " [0.12725426 0.77143911 0.43228855 0.38528223 0.78364337]\n",
      " [0.78553162 0.16280861 0.11511333 0.33252155 0.60157345]\n",
      " [0.87780234 0.61487722 0.4240039  0.95784627 0.85408447]\n",
      " [0.77414528 0.87562841 0.07835524 0.03195872 0.70624246]\n",
      " [0.55297016 0.85526749 0.95410747 0.47497613 0.5481674 ]\n",
      " [0.73452535 0.53863186 0.74511416 0.57850545 0.17615075]\n",
      " [0.7574693  0.94823633 0.87774122 0.85551533 0.30142755]\n",
      " [0.10967141 0.90606606 0.91997995 0.41728586 0.02939565]\n",
      " [0.00279215 0.03273918 0.11586205 0.84782962 0.38098088]\n",
      " [0.50243638 0.46144977 0.33269178 0.42668256 0.05478812]\n",
      " [0.99436716 0.3954295  0.23951437 0.53775309 0.88952722]\n",
      " [0.57287549 0.25017651 0.3854606  0.77271445 0.35044493]\n",
      " [0.44390929 0.41410322 0.5387974  0.91819081 0.26326296]\n",
      " [0.77809458 0.59960131 0.23799241 0.53823699 0.35778167]\n",
      " [0.41327015 0.50535019 0.03588528 0.30383571 0.87276851]\n",
      " [0.99041613 0.43951434 0.81490461 0.28016241 0.07019716]\n",
      " [0.92639589 0.68892371 0.07642139 0.6789744  0.7053043 ]\n",
      " [0.13747977 0.89235468 0.94736287 0.08549868 0.58711852]\n",
      " [0.3933076  0.45127255 0.49542756 0.94700813 0.58241205]]\n"
     ]
    }
   ],
   "source": [
    "np.random.seed(142)\n",
    "two_dim_float = np.random.rand(20,5)\n",
    "print(two_dim_float)"
   ]
  },
  {
   "cell_type": "markdown",
   "metadata": {},
   "source": [
    "# Numpy çok boyutlu ndarray kesit alma"
   ]
  },
  {
   "cell_type": "code",
   "execution_count": 4,
   "metadata": {},
   "outputs": [
    {
     "name": "stdout",
     "output_type": "stream",
     "text": [
      "[[0.90206152 0.55780754 0.65598471 0.83247141 0.19988419]\n",
      " [0.12725426 0.77143911 0.43228855 0.38528223 0.78364337]\n",
      " [0.78553162 0.16280861 0.11511333 0.33252155 0.60157345]\n",
      " [0.87780234 0.61487722 0.4240039  0.95784627 0.85408447]\n",
      " [0.77414528 0.87562841 0.07835524 0.03195872 0.70624246]\n",
      " [0.55297016 0.85526749 0.95410747 0.47497613 0.5481674 ]\n",
      " [0.73452535 0.53863186 0.74511416 0.57850545 0.17615075]\n",
      " [0.7574693  0.94823633 0.87774122 0.85551533 0.30142755]\n",
      " [0.10967141 0.90606606 0.91997995 0.41728586 0.02939565]\n",
      " [0.00279215 0.03273918 0.11586205 0.84782962 0.38098088]\n",
      " [0.50243638 0.46144977 0.33269178 0.42668256 0.05478812]\n",
      " [0.99436716 0.3954295  0.23951437 0.53775309 0.88952722]\n",
      " [0.57287549 0.25017651 0.3854606  0.77271445 0.35044493]\n",
      " [0.44390929 0.41410322 0.5387974  0.91819081 0.26326296]\n",
      " [0.77809458 0.59960131 0.23799241 0.53823699 0.35778167]\n",
      " [0.41327015 0.50535019 0.03588528 0.30383571 0.87276851]\n",
      " [0.99041613 0.43951434 0.81490461 0.28016241 0.07019716]\n",
      " [0.92639589 0.68892371 0.07642139 0.6789744  0.7053043 ]\n",
      " [0.13747977 0.89235468 0.94736287 0.08549868 0.58711852]\n",
      " [0.3933076  0.45127255 0.49542756 0.94700813 0.58241205]]\n"
     ]
    }
   ],
   "source": [
    "print(two_dim_float[:])"
   ]
  },
  {
   "cell_type": "code",
   "execution_count": 5,
   "metadata": {},
   "outputs": [
    {
     "name": "stdout",
     "output_type": "stream",
     "text": [
      "[[0.90206152 0.55780754]\n",
      " [0.12725426 0.77143911]\n",
      " [0.78553162 0.16280861]\n",
      " [0.87780234 0.61487722]\n",
      " [0.77414528 0.87562841]\n",
      " [0.55297016 0.85526749]\n",
      " [0.73452535 0.53863186]\n",
      " [0.7574693  0.94823633]\n",
      " [0.10967141 0.90606606]\n",
      " [0.00279215 0.03273918]\n",
      " [0.50243638 0.46144977]\n",
      " [0.99436716 0.3954295 ]\n",
      " [0.57287549 0.25017651]\n",
      " [0.44390929 0.41410322]\n",
      " [0.77809458 0.59960131]\n",
      " [0.41327015 0.50535019]\n",
      " [0.99041613 0.43951434]\n",
      " [0.92639589 0.68892371]\n",
      " [0.13747977 0.89235468]\n",
      " [0.3933076  0.45127255]]\n"
     ]
    }
   ],
   "source": [
    "# ilk iki sütun (0,1 indeks) tüm satırlar\n",
    "print(two_dim_float[:,0:2])"
   ]
  },
  {
   "cell_type": "code",
   "execution_count": 6,
   "metadata": {},
   "outputs": [
    {
     "data": {
      "text/plain": [
       "array([[0.55297016, 0.85526749, 0.95410747, 0.47497613, 0.5481674 ],\n",
       "       [0.73452535, 0.53863186, 0.74511416, 0.57850545, 0.17615075],\n",
       "       [0.7574693 , 0.94823633, 0.87774122, 0.85551533, 0.30142755],\n",
       "       [0.10967141, 0.90606606, 0.91997995, 0.41728586, 0.02939565],\n",
       "       [0.00279215, 0.03273918, 0.11586205, 0.84782962, 0.38098088],\n",
       "       [0.50243638, 0.46144977, 0.33269178, 0.42668256, 0.05478812],\n",
       "       [0.99436716, 0.3954295 , 0.23951437, 0.53775309, 0.88952722],\n",
       "       [0.57287549, 0.25017651, 0.3854606 , 0.77271445, 0.35044493],\n",
       "       [0.44390929, 0.41410322, 0.5387974 , 0.91819081, 0.26326296],\n",
       "       [0.77809458, 0.59960131, 0.23799241, 0.53823699, 0.35778167]])"
      ]
     },
     "execution_count": 6,
     "metadata": {},
     "output_type": "execute_result"
    }
   ],
   "source": [
    "# tüm sütunlar (5-15) arası satırlar\n",
    "two_dim_float[5:15,:]"
   ]
  },
  {
   "cell_type": "code",
   "execution_count": 7,
   "metadata": {},
   "outputs": [],
   "source": [
    "# 2. satırın tüm sütunları"
   ]
  },
  {
   "cell_type": "code",
   "execution_count": 8,
   "metadata": {},
   "outputs": [
    {
     "data": {
      "text/plain": [
       "array([0.78553162, 0.16280861, 0.11511333, 0.33252155, 0.60157345])"
      ]
     },
     "execution_count": 8,
     "metadata": {},
     "output_type": "execute_result"
    }
   ],
   "source": [
    "two_dim_float[2,:]"
   ]
  },
  {
   "cell_type": "markdown",
   "metadata": {},
   "source": [
    "# Matris elemanlarına erişim ve değer değiştirme"
   ]
  },
  {
   "cell_type": "code",
   "execution_count": 9,
   "metadata": {},
   "outputs": [
    {
     "data": {
      "text/plain": [
       "0.5529701563482825"
      ]
     },
     "execution_count": 9,
     "metadata": {},
     "output_type": "execute_result"
    }
   ],
   "source": [
    "# 5. satırın ilk elemanı (0. indis)\n",
    "two_dim_float[5][0]"
   ]
  },
  {
   "cell_type": "code",
   "execution_count": 10,
   "metadata": {},
   "outputs": [],
   "source": [
    "two_dim_float[5][0] = 0.7777701563482825"
   ]
  },
  {
   "cell_type": "code",
   "execution_count": 11,
   "metadata": {},
   "outputs": [
    {
     "data": {
      "text/plain": [
       "0.7777701563482825"
      ]
     },
     "execution_count": 11,
     "metadata": {},
     "output_type": "execute_result"
    }
   ],
   "source": [
    "two_dim_float[5][0]"
   ]
  },
  {
   "cell_type": "markdown",
   "metadata": {},
   "source": [
    "# Filtreleme"
   ]
  },
  {
   "cell_type": "code",
   "execution_count": 21,
   "metadata": {},
   "outputs": [],
   "source": [
    "# Oluştururken veri türünü float yapabiliriz.\n",
    "two_two = np.array([[1,2,3,4,5],[6,7,8,9,10]], dtype=float)"
   ]
  },
  {
   "cell_type": "code",
   "execution_count": 22,
   "metadata": {},
   "outputs": [
    {
     "name": "stdout",
     "output_type": "stream",
     "text": [
      "[[ 1.  2.  3.  4.  5.]\n",
      " [ 6.  7.  8.  9. 10.]]\n"
     ]
    }
   ],
   "source": [
    "print(two_two)"
   ]
  },
  {
   "cell_type": "code",
   "execution_count": 23,
   "metadata": {},
   "outputs": [
    {
     "data": {
      "text/plain": [
       "array([ 6.,  7.,  8.,  9., 10.])"
      ]
     },
     "execution_count": 23,
     "metadata": {},
     "output_type": "execute_result"
    }
   ],
   "source": [
    "two_two[two_two > 5]"
   ]
  },
  {
   "cell_type": "code",
   "execution_count": 24,
   "metadata": {},
   "outputs": [
    {
     "name": "stdout",
     "output_type": "stream",
     "text": [
      "[[False False  True  True  True]\n",
      " [ True  True  True  True  True]]\n"
     ]
    }
   ],
   "source": [
    "ikiden_buyuk_filtre = two_two >2\n",
    "print(ikiden_buyuk_filtre)"
   ]
  },
  {
   "cell_type": "code",
   "execution_count": 25,
   "metadata": {},
   "outputs": [
    {
     "data": {
      "text/plain": [
       "array([[ True,  True,  True,  True, False],\n",
       "       [False, False, False, False, False]])"
      ]
     },
     "execution_count": 25,
     "metadata": {},
     "output_type": "execute_result"
    }
   ],
   "source": [
    "two_two < 5"
   ]
  },
  {
   "cell_type": "code",
   "execution_count": 26,
   "metadata": {},
   "outputs": [
    {
     "data": {
      "text/plain": [
       "array([ 3.,  4.,  5.,  6.,  7.,  8.,  9., 10.])"
      ]
     },
     "execution_count": 26,
     "metadata": {},
     "output_type": "execute_result"
    }
   ],
   "source": [
    "two_two[two_two >2]"
   ]
  },
  {
   "cell_type": "code",
   "execution_count": 27,
   "metadata": {},
   "outputs": [
    {
     "data": {
      "text/plain": [
       "array([1., 2., 3., 4.])"
      ]
     },
     "execution_count": 27,
     "metadata": {},
     "output_type": "execute_result"
    }
   ],
   "source": [
    "two_two[two_two < 5]"
   ]
  },
  {
   "cell_type": "markdown",
   "metadata": {},
   "source": [
    "# reshape() Şekil değiştirme"
   ]
  },
  {
   "cell_type": "code",
   "execution_count": 28,
   "metadata": {},
   "outputs": [
    {
     "name": "stdout",
     "output_type": "stream",
     "text": [
      "[0.23157629 0.61623632 0.0340772  0.10783419 0.50222302 0.54236572\n",
      " 0.01317082 0.04669455 0.82161584 0.71391049 0.57202814 0.38256664\n",
      " 0.53612128 0.24153774 0.53883707 0.30521564]\n"
     ]
    }
   ],
   "source": [
    "y = np.random.random(16)\n",
    "print(y)"
   ]
  },
  {
   "cell_type": "code",
   "execution_count": 29,
   "metadata": {},
   "outputs": [
    {
     "data": {
      "text/plain": [
       "(16,)"
      ]
     },
     "execution_count": 29,
     "metadata": {},
     "output_type": "execute_result"
    }
   ],
   "source": [
    "y.shape"
   ]
  },
  {
   "cell_type": "code",
   "execution_count": 30,
   "metadata": {},
   "outputs": [
    {
     "data": {
      "text/plain": [
       "array([[0.23157629],\n",
       "       [0.61623632],\n",
       "       [0.0340772 ],\n",
       "       [0.10783419],\n",
       "       [0.50222302],\n",
       "       [0.54236572],\n",
       "       [0.01317082],\n",
       "       [0.04669455],\n",
       "       [0.82161584],\n",
       "       [0.71391049],\n",
       "       [0.57202814],\n",
       "       [0.38256664],\n",
       "       [0.53612128],\n",
       "       [0.24153774],\n",
       "       [0.53883707],\n",
       "       [0.30521564]])"
      ]
     },
     "execution_count": 30,
     "metadata": {},
     "output_type": "execute_result"
    }
   ],
   "source": [
    "y = y.reshape(-1,1)\n",
    "y"
   ]
  },
  {
   "cell_type": "code",
   "execution_count": 31,
   "metadata": {},
   "outputs": [
    {
     "data": {
      "text/plain": [
       "(16, 1)"
      ]
     },
     "execution_count": 31,
     "metadata": {},
     "output_type": "execute_result"
    }
   ],
   "source": [
    "y.shape"
   ]
  },
  {
   "cell_type": "markdown",
   "metadata": {},
   "source": [
    "# ravel() şekli bozmak"
   ]
  },
  {
   "cell_type": "code",
   "execution_count": 32,
   "metadata": {},
   "outputs": [
    {
     "data": {
      "text/plain": [
       "array([0.23157629, 0.61623632, 0.0340772 , 0.10783419, 0.50222302,\n",
       "       0.54236572, 0.01317082, 0.04669455, 0.82161584, 0.71391049,\n",
       "       0.57202814, 0.38256664, 0.53612128, 0.24153774, 0.53883707,\n",
       "       0.30521564])"
      ]
     },
     "execution_count": 32,
     "metadata": {},
     "output_type": "execute_result"
    }
   ],
   "source": [
    "y = y.ravel()\n",
    "y"
   ]
  },
  {
   "cell_type": "code",
   "execution_count": 33,
   "metadata": {},
   "outputs": [
    {
     "data": {
      "text/plain": [
       "(16,)"
      ]
     },
     "execution_count": 33,
     "metadata": {},
     "output_type": "execute_result"
    }
   ],
   "source": [
    "y.shape"
   ]
  },
  {
   "cell_type": "markdown",
   "metadata": {},
   "source": [
    "# Horizantal stack hstack() ile array birleştirme"
   ]
  },
  {
   "cell_type": "code",
   "execution_count": 34,
   "metadata": {},
   "outputs": [],
   "source": [
    "a1 = np.array([11,12,13])\n",
    "a2 = np.array([21,22,23])"
   ]
  },
  {
   "cell_type": "code",
   "execution_count": 35,
   "metadata": {},
   "outputs": [
    {
     "name": "stdout",
     "output_type": "stream",
     "text": [
      "[11 12 13 21 22 23]\n"
     ]
    }
   ],
   "source": [
    "hs_a1a2 = np.hstack([a1,a2])\n",
    "print(hs_a1a2)"
   ]
  },
  {
   "cell_type": "markdown",
   "metadata": {},
   "source": [
    "# Vertical stack vstack() ile array birleştirme"
   ]
  },
  {
   "cell_type": "code",
   "execution_count": 36,
   "metadata": {},
   "outputs": [
    {
     "name": "stdout",
     "output_type": "stream",
     "text": [
      "[[11 12 13]\n",
      " [21 22 23]]\n"
     ]
    }
   ],
   "source": [
    "vs_a1a2 = np.vstack([a1,a2])\n",
    "print(vs_a1a2)"
   ]
  },
  {
   "cell_type": "code",
   "execution_count": null,
   "metadata": {},
   "outputs": [],
   "source": []
  }
 ],
 "metadata": {
  "kernelspec": {
   "display_name": "Python 3",
   "language": "python",
   "name": "python3"
  },
  "language_info": {
   "codemirror_mode": {
    "name": "ipython",
    "version": 3
   },
   "file_extension": ".py",
   "mimetype": "text/x-python",
   "name": "python",
   "nbconvert_exporter": "python",
   "pygments_lexer": "ipython3",
   "version": "3.6.8"
  }
 },
 "nbformat": 4,
 "nbformat_minor": 2
}
