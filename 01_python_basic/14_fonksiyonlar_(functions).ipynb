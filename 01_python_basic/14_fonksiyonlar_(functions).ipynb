{
 "cells": [
  {
   "cell_type": "markdown",
   "metadata": {},
   "source": [
    "Fonksiyonların görevi, karmaşık işlemleri bir araya toplayarak, bu işlemleri tek adımda yapmamızı sağlamaktır. Fonksiyonlar çoğu zaman, yapmak istediğimiz işlemler için bir şablon vazifesi görür. Fonksiyonları kullanarak, bir veya birkaç adımdan oluşan işlemleri tek bir isim altında toplayabiliriz. "
   ]
  },
  {
   "cell_type": "markdown",
   "metadata": {},
   "source": [
    "# Fonksiyonların Özellikleri"
   ]
  },
  {
   "cell_type": "markdown",
   "metadata": {},
   "source": [
    "    1. Fonksiyonun adı vardır.\n",
    "    2. Fonksiyon adından sonra parantezi olur.\n",
    "    3. Parantez içi boş kalabilir, isimli parametre alabilir veya isimsiz parametre alabilir.\n",
    "    4. Varsayılan değerli parametre kullanabilir.\n",
    "    5. def ile tanımlanır (genelde), parantez kapandıktan sonra : konur ve fonksiyon içine girilir."
   ]
  },
  {
   "cell_type": "markdown",
   "metadata": {},
   "source": [
    "# Tanımlayanlar Yönünden Fonksiyon Türleri"
   ]
  },
  {
   "cell_type": "markdown",
   "metadata": {},
   "source": [
    "<p>Python’da kabaca iki tip fonksiyon bulunur:<p> \n",
    "    <ul>\n",
    "        <li>gömülü fonksiyonlar (builtin functions), </li>\n",
    "        <li>özel fonksiyonlar (custom functions)</li>\n",
    "</ul>        \n",
    "Burada ‘özel’ ifadesi, ‘kullanıcının ihtiyaçlarına göre kullanıcı tarafından özel olarak üretilmiş’ anlamına gelir."
   ]
  },
  {
   "cell_type": "markdown",
   "metadata": {},
   "source": [
    "# Bir Sonuç Dönüp Dönmediklerine Göre Fonksiyon Türleri"
   ]
  },
  {
   "cell_type": "markdown",
   "metadata": {},
   "source": [
    "## 1. Sonuç Dönmeyen, Sadece İş Yapan"
   ]
  },
  {
   "cell_type": "markdown",
   "metadata": {},
   "source": [
    "    fonksiyon_adı(parametre_01, parametre_02, ...):\n",
    "        yapılacak işler"
   ]
  },
  {
   "cell_type": "markdown",
   "metadata": {},
   "source": [
    "## 2. Sonuç Dönen"
   ]
  },
  {
   "cell_type": "markdown",
   "metadata": {},
   "source": [
    "    fonksiyon_adı(parametre_01, parametre_02,...):\n",
    "        yapılacak işler\n",
    "\n",
    "        return dönecek_sonuç"
   ]
  },
  {
   "cell_type": "markdown",
   "metadata": {},
   "source": [
    "# Parametre ne? Argüman Ne?"
   ]
  },
  {
   "cell_type": "markdown",
   "metadata": {},
   "source": [
    "    Parametre, fonksiyon tanımlarken parantez içinde belirttiğimiz, fonksiyon gövdesinde yapılan işin değişken öğelerini gösteren parçalardır. Argüman ise fonksiyon çağrılırken parametrelere atanacak değerlerdir."
   ]
  },
  {
   "cell_type": "markdown",
   "metadata": {},
   "source": [
    "### Fonksiyon tanımlama"
   ]
  },
  {
   "cell_type": "markdown",
   "metadata": {},
   "source": [
    "    def fonksiyon_adı(p1,p2,....pn):\n",
    "        (......)"
   ]
  },
  {
   "cell_type": "markdown",
   "metadata": {},
   "source": [
    "### Fonksiyon çağırma"
   ]
  },
  {
   "cell_type": "markdown",
   "metadata": {},
   "source": [
    "    fonksiyon_adı(arg1, arg2, ....,argn)"
   ]
  },
  {
   "cell_type": "markdown",
   "metadata": {},
   "source": [
    "# Fonksiyon tanımlama"
   ]
  },
  {
   "cell_type": "code",
   "execution_count": 1,
   "metadata": {},
   "outputs": [],
   "source": [
    "def fonksiyon_adi(parametre_1, parametre_2):\n",
    "    \"\"\"\n",
    "    Fonksiyon gövdesi\n",
    "    \n",
    "    \"\"\"\n",
    "    return \"fonksiton çalıştı. \"+parametre_1+\", \"+parametre_2"
   ]
  },
  {
   "cell_type": "markdown",
   "metadata": {},
   "source": [
    "# Fonksiyon çağırma/kullanma"
   ]
  },
  {
   "cell_type": "code",
   "execution_count": 2,
   "metadata": {},
   "outputs": [
    {
     "data": {
      "text/plain": [
       "'fonksiton çalıştı. argüman_1, argüman_2'"
      ]
     },
     "execution_count": 2,
     "metadata": {},
     "output_type": "execute_result"
    }
   ],
   "source": [
    "fonksiyon_adi(\"argüman_1\", \"argüman_2\")"
   ]
  },
  {
   "cell_type": "code",
   "execution_count": 3,
   "metadata": {},
   "outputs": [],
   "source": [
    "def iki_sayi_toplama(sayi1, sayi2):\n",
    "    toplam = sayi1 + sayi2\n",
    "    return toplam"
   ]
  },
  {
   "cell_type": "code",
   "execution_count": 4,
   "metadata": {},
   "outputs": [],
   "source": [
    "sonuc = iki_sayi_toplama(3,5)"
   ]
  },
  {
   "cell_type": "code",
   "execution_count": 5,
   "metadata": {},
   "outputs": [
    {
     "name": "stdout",
     "output_type": "stream",
     "text": [
      "8\n"
     ]
    }
   ],
   "source": [
    "print(sonuc)"
   ]
  },
  {
   "cell_type": "markdown",
   "metadata": {},
   "source": [
    "# Örnek Fonksiyonlar"
   ]
  },
  {
   "cell_type": "code",
   "execution_count": 13,
   "metadata": {},
   "outputs": [],
   "source": [
    "# Bir an için len gömülü fonksiyonunun olmadığını düşünelim ve kendimiz bu işlevi yazalım."
   ]
  },
  {
   "cell_type": "code",
   "execution_count": 6,
   "metadata": {},
   "outputs": [],
   "source": [
    "def len_tr(girdi):\n",
    "    sayac = 0\n",
    "    for i in girdi:\n",
    "        sayac +=1\n",
    "    return sayac"
   ]
  },
  {
   "cell_type": "code",
   "execution_count": 7,
   "metadata": {},
   "outputs": [
    {
     "name": "stdout",
     "output_type": "stream",
     "text": [
      "7\n"
     ]
    }
   ],
   "source": [
    "print(len_tr(\"Merhaba\"))"
   ]
  },
  {
   "cell_type": "code",
   "execution_count": 8,
   "metadata": {},
   "outputs": [
    {
     "name": "stdout",
     "output_type": "stream",
     "text": [
      "7\n"
     ]
    }
   ],
   "source": [
    "print(len(\"Merhaba\"))"
   ]
  },
  {
   "cell_type": "code",
   "execution_count": 9,
   "metadata": {},
   "outputs": [
    {
     "name": "stdout",
     "output_type": "stream",
     "text": [
      "4\n"
     ]
    }
   ],
   "source": [
    "print(len_tr([1,2,3,4]))"
   ]
  },
  {
   "cell_type": "code",
   "execution_count": 10,
   "metadata": {},
   "outputs": [
    {
     "name": "stdout",
     "output_type": "stream",
     "text": [
      "2\n"
     ]
    }
   ],
   "source": [
    "print(len_tr({\"Ankara\":6, \"istanul\":34}))"
   ]
  },
  {
   "cell_type": "code",
   "execution_count": 11,
   "metadata": {},
   "outputs": [
    {
     "data": {
      "text/plain": [
       "1"
      ]
     },
     "execution_count": 11,
     "metadata": {},
     "output_type": "execute_result"
    }
   ],
   "source": [
    "len_tr([6])"
   ]
  },
  {
   "cell_type": "markdown",
   "metadata": {},
   "source": [
    "# Parametre Çeşitleri"
   ]
  },
  {
   "cell_type": "markdown",
   "metadata": {},
   "source": [
    "## 1. Sıralı (veya İsimsiz) Parametreler"
   ]
  },
  {
   "cell_type": "markdown",
   "metadata": {},
   "source": [
    "    Bu türde parametreler için herhangi bir isim verilmez. Ancak argümanlar gönderilirken fonksiyonun tanımlanma sırasına göre gönderilmelidir."
   ]
  },
  {
   "cell_type": "markdown",
   "metadata": {},
   "source": [
    "### Örnek"
   ]
  },
  {
   "cell_type": "code",
   "execution_count": 12,
   "metadata": {},
   "outputs": [],
   "source": [
    "def vucut_kutle_indeksi(kilo, boy):\n",
    "    return (kilo/boy**2)"
   ]
  },
  {
   "cell_type": "code",
   "execution_count": 14,
   "metadata": {},
   "outputs": [
    {
     "data": {
      "text/plain": [
       "27.166919271354622"
      ]
     },
     "execution_count": 14,
     "metadata": {},
     "output_type": "execute_result"
    }
   ],
   "source": [
    "vucut_kutle_indeksi(95, 1.87)"
   ]
  },
  {
   "cell_type": "code",
   "execution_count": 22,
   "metadata": {},
   "outputs": [],
   "source": [
    "# Tersini yapmış olsaydık?"
   ]
  },
  {
   "cell_type": "code",
   "execution_count": 15,
   "metadata": {},
   "outputs": [
    {
     "data": {
      "text/plain": [
       "0.000207202216066482"
      ]
     },
     "execution_count": 15,
     "metadata": {},
     "output_type": "execute_result"
    }
   ],
   "source": [
    "vucut_kutle_indeksi(1.87, 95)"
   ]
  },
  {
   "cell_type": "code",
   "execution_count": 24,
   "metadata": {},
   "outputs": [],
   "source": [
    "# Parametre sayısı çok olan fonksiyonlarda sırasını akılda tutmak imkansız"
   ]
  },
  {
   "cell_type": "code",
   "execution_count": 16,
   "metadata": {},
   "outputs": [
    {
     "data": {
      "text/plain": [
       "27.166919271354622"
      ]
     },
     "execution_count": 16,
     "metadata": {},
     "output_type": "execute_result"
    }
   ],
   "source": [
    "vucut_kutle_indeksi(boy=1.87 ,kilo=95 )"
   ]
  },
  {
   "cell_type": "markdown",
   "metadata": {},
   "source": [
    "## 2. Varsayılan Değerli Parametreler"
   ]
  },
  {
   "cell_type": "code",
   "execution_count": 32,
   "metadata": {},
   "outputs": [],
   "source": [
    "def daire_alani(yari_cap, pi=3.14):\n",
    "    return pi * (yari_cap**2)"
   ]
  },
  {
   "cell_type": "code",
   "execution_count": 23,
   "metadata": {},
   "outputs": [
    {
     "data": {
      "text/plain": [
       "50.24"
      ]
     },
     "execution_count": 23,
     "metadata": {},
     "output_type": "execute_result"
    }
   ],
   "source": [
    "daire_alani(4)"
   ]
  },
  {
   "cell_type": "code",
   "execution_count": 24,
   "metadata": {},
   "outputs": [
    {
     "data": {
      "text/plain": [
       "50.26544"
      ]
     },
     "execution_count": 24,
     "metadata": {},
     "output_type": "execute_result"
    }
   ],
   "source": [
    "daire_alani(yari_cap=4, pi=3.14159)"
   ]
  },
  {
   "cell_type": "code",
   "execution_count": 25,
   "metadata": {},
   "outputs": [],
   "source": [
    "# istersek değiştirebiliriz"
   ]
  },
  {
   "cell_type": "code",
   "execution_count": 26,
   "metadata": {},
   "outputs": [
    {
     "data": {
      "text/plain": [
       "50.26544"
      ]
     },
     "execution_count": 26,
     "metadata": {},
     "output_type": "execute_result"
    }
   ],
   "source": [
    "daire_alani(4, pi=3.14159)"
   ]
  },
  {
   "cell_type": "markdown",
   "metadata": {},
   "source": [
    "## 3. Sayısı Belirsiz Parametreler"
   ]
  },
  {
   "cell_type": "code",
   "execution_count": 29,
   "metadata": {},
   "outputs": [],
   "source": [
    "def sayilari_topla(*sayilar):\n",
    "    toplam = 0\n",
    "    for i in sayilar:\n",
    "        toplam += i\n",
    "    \n",
    "    return toplam"
   ]
  },
  {
   "cell_type": "code",
   "execution_count": 30,
   "metadata": {},
   "outputs": [
    {
     "data": {
      "text/plain": [
       "97"
      ]
     },
     "execution_count": 30,
     "metadata": {},
     "output_type": "execute_result"
    }
   ],
   "source": [
    "sayilari_topla(1,2,4,6,7,54,3,5,7,8)"
   ]
  },
  {
   "cell_type": "markdown",
   "metadata": {},
   "source": [
    "    Fonksiyon tanımında parametrenin soluna * getirdiğimizde, bu fonksiyon çağrılırken verilen argümanlar tek bir değişken içinde bir tuple(demet) olarak toplanıyor."
   ]
  },
  {
   "cell_type": "code",
   "execution_count": 31,
   "metadata": {},
   "outputs": [],
   "source": [
    "def sayilar(*args):\n",
    "    print(args)"
   ]
  },
  {
   "cell_type": "code",
   "execution_count": 34,
   "metadata": {},
   "outputs": [
    {
     "name": "stdout",
     "output_type": "stream",
     "text": [
      "(1, 4, 2, 6, 99, 55)\n"
     ]
    }
   ],
   "source": [
    "sayilar(1,4,2,6,99,55)"
   ]
  },
  {
   "cell_type": "code",
   "execution_count": 35,
   "metadata": {},
   "outputs": [],
   "source": [
    "# Demet döndü. Biz de zaten parametrelerimizi demet () içinde tanımlıyorduk."
   ]
  },
  {
   "cell_type": "markdown",
   "metadata": {},
   "source": [
    "<h1 style=\"color:blue\";> 01_python_basic: alıştırma - 9</h1>"
   ]
  },
  {
   "cell_type": "markdown",
   "metadata": {},
   "source": [
    "Bir üniversite öğrencisinin mezuniyet başarısı sadece diploma notuna göre değil çeşitli faktörlere göre belirlenmektedir.\n",
    "Ancak tüm öğrenciler diploma notuna sahip olmasına rağmen bazı öğrenciler bazı aktivitelerden puanı varken bazılarının yoktur.\n",
    "    Örneğin;\n",
    "    Ahmet basketbol ve yüzme takımlarındadır\n",
    "    Ayşe ise sadece resimle uğraşmıştır\n",
    "    Fulya gönüllü organizasyonlarda görev almıştır\n",
    "    Tuna okul caz grubunda bas gitar çalmaktadır\n",
    "    Gündüz hiç bir etkinliğe katılmamıştır.\n",
    "\n",
    "    Her öğrencinin yaptığı bu faaliyetlerin rakamlarla ölçülebildiği varsayılmaktadır.\n",
    "    Öğrenci başarıları diploma notuna faaliyet puanlarının eklenmesiyle belirlenmektedir.\n",
    "    Öğrenci başarısını hesaplayan fonksiyonu yazınız."
   ]
  },
  {
   "cell_type": "code",
   "execution_count": null,
   "metadata": {},
   "outputs": [],
   "source": []
  },
  {
   "cell_type": "code",
   "execution_count": null,
   "metadata": {},
   "outputs": [],
   "source": []
  },
  {
   "cell_type": "code",
   "execution_count": null,
   "metadata": {},
   "outputs": [],
   "source": []
  },
  {
   "cell_type": "markdown",
   "metadata": {},
   "source": [
    "# \\*args, \\**kwargs örnek"
   ]
  },
  {
   "cell_type": "code",
   "execution_count": 36,
   "metadata": {},
   "outputs": [],
   "source": [
    "iller_plaka ={\n",
    "    \"Ankara\":6,\n",
    "    \"İstanbul\":34,\n",
    "    \"izmir\":35\n",
    "}"
   ]
  },
  {
   "cell_type": "code",
   "execution_count": 47,
   "metadata": {},
   "outputs": [],
   "source": [
    "def args_kwargs_yaz(*args, **kwargs):\n",
    "    print(args)\n",
    "    print(kwargs)"
   ]
  },
  {
   "cell_type": "code",
   "execution_count": 48,
   "metadata": {},
   "outputs": [
    {
     "ename": "NameError",
     "evalue": "name 'iller_plaka' is not defined",
     "output_type": "error",
     "traceback": [
      "\u001b[1;31m---------------------------------------------------------------------------\u001b[0m",
      "\u001b[1;31mNameError\u001b[0m                                 Traceback (most recent call last)",
      "\u001b[1;32m<ipython-input-48-149432908cca>\u001b[0m in \u001b[0;36m<module>\u001b[1;34m\u001b[0m\n\u001b[1;32m----> 1\u001b[1;33m \u001b[0margs_kwargs_yaz\u001b[0m\u001b[1;33m(\u001b[0m\u001b[1;34m\"Zeytin\"\u001b[0m\u001b[1;33m,\u001b[0m\u001b[1;33m**\u001b[0m\u001b[0miller_plaka\u001b[0m\u001b[1;33m)\u001b[0m\u001b[1;33m\u001b[0m\u001b[1;33m\u001b[0m\u001b[0m\n\u001b[0m",
      "\u001b[1;31mNameError\u001b[0m: name 'iller_plaka' is not defined"
     ]
    }
   ],
   "source": [
    "args_kwargs_yaz(\"Zeytin\",**iller_plaka)"
   ]
  },
  {
   "cell_type": "code",
   "execution_count": 46,
   "metadata": {},
   "outputs": [
    {
     "name": "stdout",
     "output_type": "stream",
     "text": [
      "('Zeytin', 'Peynir')\n",
      "{'Ankara': 6, 'İstanbul': 34, 'izmir': 35}\n"
     ]
    }
   ],
   "source": [
    "args_kwargs_yaz(\"Zeytin\",\"Peynir\",**iller_plaka)"
   ]
  },
  {
   "cell_type": "code",
   "execution_count": 44,
   "metadata": {},
   "outputs": [
    {
     "name": "stdout",
     "output_type": "stream",
     "text": [
      "(['Zeytin', 'Peynir'],)\n",
      "{'Ankara': 6, 'İstanbul': 34, 'izmir': 35}\n"
     ]
    }
   ],
   "source": [
    "args_kwargs_yaz([\"Zeytin\",\"Peynir\"],**iller_plaka)"
   ]
  },
  {
   "cell_type": "markdown",
   "metadata": {},
   "source": [
    "<h2 style=\"color:red\">Yukarıda args için tuple, kwargs için dictionary üretildiğine dikkat.</h2>"
   ]
  },
  {
   "cell_type": "code",
   "execution_count": 11,
   "metadata": {},
   "outputs": [],
   "source": [
    "def plaka_bul(*args, **kwargs):\n",
    "    for ilin_adi in args:\n",
    "        if ilin_adi in kwargs:\n",
    "            return kwargs[ilin_adi]\n",
    "        else:\n",
    "            return \"{} plakası burada yok\".format(ilin_adi)"
   ]
  },
  {
   "cell_type": "code",
   "execution_count": 12,
   "metadata": {},
   "outputs": [
    {
     "data": {
      "text/plain": [
       "'Çorum plakası burada yok'"
      ]
     },
     "execution_count": 12,
     "metadata": {},
     "output_type": "execute_result"
    }
   ],
   "source": [
    "plaka_bul(\"Çorum\", **iller_plaka)"
   ]
  },
  {
   "cell_type": "code",
   "execution_count": 13,
   "metadata": {},
   "outputs": [
    {
     "data": {
      "text/plain": [
       "6"
      ]
     },
     "execution_count": 13,
     "metadata": {},
     "output_type": "execute_result"
    }
   ],
   "source": [
    "plaka_bul(\"Ankara\", **iller_plaka)"
   ]
  },
  {
   "cell_type": "markdown",
   "metadata": {},
   "source": [
    "# Fonksiyon sadece bir değer döndürmek zorunda değil"
   ]
  },
  {
   "cell_type": "code",
   "execution_count": 34,
   "metadata": {},
   "outputs": [],
   "source": [
    "def vucut_kutle_indeksi(kilo, boy):\n",
    "    indeks = (kilo/boy**2)\n",
    "    obezite = True if indeks > 30 else False\n",
    "    return (indeks, obezite)"
   ]
  },
  {
   "cell_type": "code",
   "execution_count": 35,
   "metadata": {},
   "outputs": [],
   "source": [
    " vki, obezlik_durumu = vucut_kutle_indeksi(kilo=95, boy=1.87)"
   ]
  },
  {
   "cell_type": "code",
   "execution_count": 36,
   "metadata": {},
   "outputs": [
    {
     "name": "stdout",
     "output_type": "stream",
     "text": [
      "False \b, 27.166919271354622\n"
     ]
    }
   ],
   "source": [
    "print(obezlik_durumu,\"\\b,\", vki)"
   ]
  }
 ],
 "metadata": {
  "kernelspec": {
   "display_name": "Python 3",
   "language": "python",
   "name": "python3"
  },
  "language_info": {
   "codemirror_mode": {
    "name": "ipython",
    "version": 3
   },
   "file_extension": ".py",
   "mimetype": "text/x-python",
   "name": "python",
   "nbconvert_exporter": "python",
   "pygments_lexer": "ipython3",
   "version": "3.6.8"
  }
 },
 "nbformat": 4,
 "nbformat_minor": 2
}
